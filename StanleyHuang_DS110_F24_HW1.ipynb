{
  "cells": [
    {
      "cell_type": "markdown",
      "id": "4cbcf4aa",
      "metadata": {
        "id": "4cbcf4aa"
      },
      "source": [
        "## (70 points possible)"
      ]
    },
    {
      "cell_type": "markdown",
      "id": "328cff1a",
      "metadata": {
        "id": "328cff1a"
      },
      "source": [
        "# 1) Getting started (8 points [2,2,4])\n",
        "\n",
        "a, 2 points) In the code box below, write a Python expression that finds the value of $(8^2)^2$. (Recall that ** is the exponentiation operator.)  Do not call print().  Do not calculate any values somewhere else; your code should contain an 8 and a 2 and another 2."
      ]
    },
    {
      "cell_type": "code",
      "execution_count": 51,
      "id": "5a3e2cd0",
      "metadata": {
        "colab": {
          "base_uri": "https://localhost:8080/"
        },
        "id": "5a3e2cd0",
        "outputId": "91b5374d-e2c8-412b-9b05-bca552068bc2"
      },
      "outputs": [
        {
          "output_type": "execute_result",
          "data": {
            "text/plain": [
              "4096"
            ]
          },
          "metadata": {},
          "execution_count": 51
        }
      ],
      "source": [
        "# TODO\n",
        "(8**2)**2"
      ]
    },
    {
      "cell_type": "markdown",
      "id": "791763d1",
      "metadata": {
        "id": "791763d1"
      },
      "source": [
        "b, 2 points) All in the same code box, write code that prints your first and last name on one line, your graduation year on the next line, and your intended major on the line after that."
      ]
    },
    {
      "cell_type": "code",
      "execution_count": 52,
      "id": "663ece9b",
      "metadata": {
        "colab": {
          "base_uri": "https://localhost:8080/"
        },
        "id": "663ece9b",
        "outputId": "c4ea5611-1fc1-4be4-9d54-d8d272052009"
      },
      "outputs": [
        {
          "output_type": "stream",
          "name": "stdout",
          "text": [
            "Stanley Huang\n",
            "2026\n",
            "Philosophy & Economics with a Data Science Minor\n"
          ]
        }
      ],
      "source": [
        "# TODO\n",
        "print(\"Stanley Huang\\n2026\\nPhilosophy & Economics with a Data Science Minor\")\n"
      ]
    },
    {
      "cell_type": "markdown",
      "id": "27dd33ac",
      "metadata": {
        "id": "27dd33ac"
      },
      "source": [
        "c, 4 points) Write a two-line program that prompts the user for a string, like \"Enter a string: \".  On getting this string, the program should print the string but with three exclamation points at the end; thus if the user enters \"tacos\", the program should print \"tacos!!!\""
      ]
    },
    {
      "cell_type": "code",
      "execution_count": 53,
      "id": "5d0b8758",
      "metadata": {
        "colab": {
          "base_uri": "https://localhost:8080/"
        },
        "id": "5d0b8758",
        "outputId": "2a90a276-4ae7-426f-cd0a-2895cfda360a"
      },
      "outputs": [
        {
          "output_type": "stream",
          "name": "stdout",
          "text": [
            "Enter a string: str\n",
            "str!!!\n"
          ]
        }
      ],
      "source": [
        "# TODO\n",
        "value = input(\"Enter a string: \")\n",
        "print(f'{value}!!!')"
      ]
    },
    {
      "cell_type": "markdown",
      "id": "b81635ed",
      "metadata": {
        "id": "b81635ed"
      },
      "source": [
        "# 2) Types (10 points [1x8 + 2])\n",
        "\n",
        "Each code box below contains a literal value (ie, not a variable).  In the text box below the code box, give its type.  Your options are *integer*, *boolean*, *float*, or *string*.\n",
        "\n",
        "Fun fact:  1337 is short for 31337 which is an \"eleet\" way of writing \"elite.\"  It's a tongue-in-cheek way to refer to being knowledgeable about programming or hacking."
      ]
    },
    {
      "cell_type": "code",
      "execution_count": null,
      "id": "efa84a96",
      "metadata": {
        "id": "efa84a96"
      },
      "outputs": [],
      "source": [
        "1337.0"
      ]
    },
    {
      "cell_type": "markdown",
      "id": "8ac44843",
      "metadata": {
        "id": "8ac44843"
      },
      "source": [
        "a) **TODO** float"
      ]
    },
    {
      "cell_type": "code",
      "execution_count": null,
      "id": "3eca74ee",
      "metadata": {
        "id": "3eca74ee"
      },
      "outputs": [],
      "source": [
        "'1337'"
      ]
    },
    {
      "cell_type": "markdown",
      "id": "e5a0648a",
      "metadata": {
        "id": "e5a0648a"
      },
      "source": [
        "b) **TODO** string"
      ]
    },
    {
      "cell_type": "code",
      "execution_count": null,
      "id": "30e649a0",
      "metadata": {
        "id": "30e649a0"
      },
      "outputs": [],
      "source": [
        "True"
      ]
    },
    {
      "cell_type": "markdown",
      "id": "f3088df8",
      "metadata": {
        "id": "f3088df8"
      },
      "source": [
        "c) **TODO** boolean"
      ]
    },
    {
      "cell_type": "code",
      "execution_count": null,
      "id": "345fc7a5",
      "metadata": {
        "id": "345fc7a5"
      },
      "outputs": [],
      "source": [
        "1337"
      ]
    },
    {
      "cell_type": "markdown",
      "id": "10cbe5d7",
      "metadata": {
        "id": "10cbe5d7"
      },
      "source": [
        "d) **TODO** integer"
      ]
    },
    {
      "cell_type": "markdown",
      "id": "9d9e74aa",
      "metadata": {
        "id": "9d9e74aa"
      },
      "source": [
        "Next, try to guess what type (from the four we already talked about) would be most likely to be contained in each of the following variables, given their names.  Each type is used once."
      ]
    },
    {
      "cell_type": "markdown",
      "id": "1e14fbc3",
      "metadata": {
        "id": "1e14fbc3"
      },
      "source": [
        "e) price_of_milk"
      ]
    },
    {
      "cell_type": "markdown",
      "id": "58a5e46a",
      "metadata": {
        "id": "58a5e46a"
      },
      "source": [
        "e) **TODO** float\n",
        "\n",
        "\n"
      ]
    },
    {
      "cell_type": "markdown",
      "id": "2cdf6d23",
      "metadata": {
        "id": "2cdf6d23"
      },
      "source": [
        "f) supervisor_name"
      ]
    },
    {
      "cell_type": "markdown",
      "id": "66a643e2",
      "metadata": {
        "id": "66a643e2"
      },
      "source": [
        "f) **TODO** string"
      ]
    },
    {
      "cell_type": "markdown",
      "id": "14139e1f",
      "metadata": {
        "id": "14139e1f"
      },
      "source": [
        "g) error_count"
      ]
    },
    {
      "cell_type": "markdown",
      "id": "41440b79",
      "metadata": {
        "id": "41440b79"
      },
      "source": [
        "g) **TODO** integer"
      ]
    },
    {
      "cell_type": "markdown",
      "id": "a31d13bc",
      "metadata": {
        "id": "a31d13bc"
      },
      "source": [
        "h) verbose (an adjective meaning \"wordy\"; may control whether program prints a lot of things or not)"
      ]
    },
    {
      "cell_type": "markdown",
      "id": "08e93c64",
      "metadata": {
        "id": "08e93c64"
      },
      "source": [
        "h) **TODO** boolean"
      ]
    },
    {
      "cell_type": "markdown",
      "id": "7d1d746d",
      "metadata": {
        "id": "7d1d746d"
      },
      "source": [
        "i) The following code box produces an error.  Explain what the text after TypeError means - what did the code try to do, and should have happened to avoid the error?"
      ]
    },
    {
      "cell_type": "code",
      "execution_count": 54,
      "id": "4170970d",
      "metadata": {
        "colab": {
          "base_uri": "https://localhost:8080/",
          "height": 162
        },
        "id": "4170970d",
        "outputId": "54425173-3880-4b48-caf3-d2b11b426d84"
      },
      "outputs": [
        {
          "output_type": "error",
          "ename": "TypeError",
          "evalue": "can only concatenate str (not \"bool\") to str",
          "traceback": [
            "\u001b[0;31m---------------------------------------------------------------------------\u001b[0m",
            "\u001b[0;31mTypeError\u001b[0m                                 Traceback (most recent call last)",
            "\u001b[0;32m<ipython-input-54-ee5e0dc62d12>\u001b[0m in \u001b[0;36m<cell line: 2>\u001b[0;34m()\u001b[0m\n\u001b[1;32m      1\u001b[0m \u001b[0mready\u001b[0m \u001b[0;34m=\u001b[0m \u001b[0;32mFalse\u001b[0m\u001b[0;34m\u001b[0m\u001b[0;34m\u001b[0m\u001b[0m\n\u001b[0;32m----> 2\u001b[0;31m \u001b[0mprint\u001b[0m\u001b[0;34m(\u001b[0m\u001b[0;34m'All systems go: '\u001b[0m \u001b[0;34m+\u001b[0m \u001b[0mready\u001b[0m\u001b[0;34m)\u001b[0m\u001b[0;34m\u001b[0m\u001b[0;34m\u001b[0m\u001b[0m\n\u001b[0m",
            "\u001b[0;31mTypeError\u001b[0m: can only concatenate str (not \"bool\") to str"
          ]
        }
      ],
      "source": [
        "ready = False\n",
        "print('All systems go: ' + ready)"
      ]
    },
    {
      "cell_type": "code",
      "execution_count": 55,
      "metadata": {
        "colab": {
          "base_uri": "https://localhost:8080/"
        },
        "outputId": "829aaf04-3f62-4fdd-8074-8d3b84a20742",
        "id": "vSUVCr-dcmgs"
      },
      "outputs": [
        {
          "output_type": "stream",
          "name": "stdout",
          "text": [
            "All systems go: False\n"
          ]
        }
      ],
      "source": [
        "ready = False\n",
        "print('All systems go: ' + str(ready))"
      ],
      "id": "vSUVCr-dcmgs"
    },
    {
      "cell_type": "markdown",
      "id": "46050a88",
      "metadata": {
        "id": "46050a88"
      },
      "source": [
        "**TODO** The type error means that the print function can only concatenate a string value. False is a boolean value thus can not be printed. One way we can avoid the error is to convert the boolean to a string. I provided an example code below."
      ]
    },
    {
      "cell_type": "markdown",
      "source": [],
      "metadata": {
        "id": "gvDtaILjclSh"
      },
      "id": "gvDtaILjclSh"
    },
    {
      "cell_type": "markdown",
      "id": "ae1dcb20",
      "metadata": {
        "id": "ae1dcb20"
      },
      "source": [
        "# 3) That's a Lot!  Conditions and Branching (14 points [5, 4, 5])\n",
        "\n",
        "a, 5 points) Write a program that asks how many X's the user has, where X can be anything you like (eg, \"How many classes have you taken at BU?\" or \"How many Pokemon cards do you own?\").  You can assume the user always enters an integer as input.  Your program should then do one of three things - if the input is at least 10, it should print \"That's a lot!\"  Otherwise, if the input is at least 0, it should print \"That's too bad.\"  If the input is negative, it should print \"How is that possible???\"\n",
        "\n",
        "Don't forget that the strings returned by input() need to be converted to integers with int().  Also, you can use \" instead of ' around your string so that you can use an apostrophe without trouble:  \"That's a lot!\""
      ]
    },
    {
      "cell_type": "code",
      "execution_count": 57,
      "id": "28c51865",
      "metadata": {
        "colab": {
          "base_uri": "https://localhost:8080/"
        },
        "id": "28c51865",
        "outputId": "ed99d827-b5a8-461a-d9ba-f4369de39a04"
      },
      "outputs": [
        {
          "output_type": "stream",
          "name": "stdout",
          "text": [
            "How many siblings do you have?10\n",
            "That's a lot!\n"
          ]
        }
      ],
      "source": [
        "#TODO\n",
        "\n",
        "value = int(input(\"How many siblings do you have?\"))\n",
        "if value < 0:\n",
        "  print(\"How is that possible?\")\n",
        "elif value < 10:\n",
        "  print(\"That's too bad!\")\n",
        "else:\n",
        "  print(\"That's a lot!\")\n"
      ]
    },
    {
      "cell_type": "markdown",
      "id": "65603dbc",
      "metadata": {
        "id": "65603dbc"
      },
      "source": [
        "b, 4 points) Copy your program from the preceding code box into the code box below, and choose one particular value such that, if and only if that value is entered, the program responds \"Me too!\".  This should replace whatever observation it might otherwise have made (it shouldn't say \"That's a lot\" if it already said \"Me too!\")."
      ]
    },
    {
      "cell_type": "code",
      "execution_count": 58,
      "id": "77a48de2",
      "metadata": {
        "colab": {
          "base_uri": "https://localhost:8080/"
        },
        "id": "77a48de2",
        "outputId": "61b280b4-8bdd-4672-86ae-0f8860b58ef8"
      },
      "outputs": [
        {
          "output_type": "stream",
          "name": "stdout",
          "text": [
            "How many siblings do you have?2\n",
            "Me too!\n"
          ]
        }
      ],
      "source": [
        "# TODO\n",
        "value = int(input(\"How many siblings do you have?\"))\n",
        "if value < 0:\n",
        "  print(\"How is that possible?\")\n",
        "elif value == 2:\n",
        "  print(\"Me too!\")\n",
        "elif value < 10:\n",
        "  print(\"That's too bad!\")\n",
        "else:\n",
        "  print(\"That's a lot!\")"
      ]
    },
    {
      "cell_type": "markdown",
      "id": "fd9f9c74",
      "metadata": {
        "id": "fd9f9c74"
      },
      "source": [
        "c, 5 points) Write a new program where it asks the user for an integer, then asks the user for another integer, then reports \"X raised to the Y power is Z\", where X and Y are the integers and Z is $X^Y$.  (For example, \"2 raised to the 8 power is 256\".)  Then, if Z is 1000 or more, the program should print, \"That's a lot!\"  (It does not have any additional output for other values.)  You can again assume the user always enters a valid integer.  Do not exponentiate more than once."
      ]
    },
    {
      "cell_type": "code",
      "execution_count": 60,
      "id": "bfb909f6",
      "metadata": {
        "colab": {
          "base_uri": "https://localhost:8080/"
        },
        "id": "bfb909f6",
        "outputId": "5ce7d145-d554-40bb-b765-2bd985cb12e9"
      },
      "outputs": [
        {
          "output_type": "stream",
          "name": "stdout",
          "text": [
            "Enter an integer: 2\n",
            "Enter an integer: 24\n",
            "2 raised to the 24 power is 16777216\n",
            "That's a lot!\n"
          ]
        }
      ],
      "source": [
        "# TODO\n",
        "\n",
        "x = int(input(\"Enter an integer: \"))\n",
        "y = int(input(\"Enter an integer: \"))\n",
        "\n",
        "z = x**y\n",
        "\n",
        "if z >= 1000:\n",
        "  print(f\"{x} raised to the {y} power is {z}\")\n",
        "  print(\"That's a lot!\")\n",
        "else:\n",
        "  print(f\"{x} raised to the {y} power is {z}\")\n"
      ]
    },
    {
      "cell_type": "markdown",
      "id": "40a1b612",
      "metadata": {
        "id": "40a1b612"
      },
      "source": [
        "6# 4) While:  Password please (14 points [5,4,5])\n",
        "a, 5 points) Write a program where the user is prompted with \"Enter password: \".  You can choose the password, which should be clearly assigned to a variable named *password*.  If the user's input matches the password, print \"Access granted!\" and end the program.  Otherwise, print \"Access denied.\" and prompt again; keep prompting until the correct password is entered."
      ]
    },
    {
      "cell_type": "code",
      "execution_count": 61,
      "id": "ca3922f7",
      "metadata": {
        "colab": {
          "base_uri": "https://localhost:8080/"
        },
        "id": "ca3922f7",
        "outputId": "986a60bf-7894-444c-ee74-b84be893b87b"
      },
      "outputs": [
        {
          "output_type": "stream",
          "name": "stdout",
          "text": [
            "Enter password: elf3\n",
            "Access denied!\n",
            "Enter password: kdkak\n",
            "Access denied!\n",
            "Enter password: !@#$%^&*()\n",
            "Access granted!\n"
          ]
        }
      ],
      "source": [
        "# TODO\n",
        "\n",
        "password = \"!@#$%^&*()\"\n",
        "while value != password:\n",
        "  value = input(\"Enter password: \")\n",
        "  if value != password:\n",
        "    print(\"Access denied!\")\n",
        "  else:\n",
        "    print(\"Access granted!\")"
      ]
    },
    {
      "cell_type": "markdown",
      "id": "d129a59f",
      "metadata": {
        "id": "d129a59f"
      },
      "source": [
        "5b, 4 points) Now copy your code into the next code box, and modify it in the following way:  after giving the \"Access denied.\" message, report how many attempts the user has made, with a message like \"Tries: 1\" or \"Tries: 2\"."
      ]
    },
    {
      "cell_type": "code",
      "execution_count": 62,
      "id": "ed91c2f1",
      "metadata": {
        "id": "ed91c2f1",
        "colab": {
          "base_uri": "https://localhost:8080/"
        },
        "outputId": "f3f28dd3-6d83-44d4-a004-e70d7236532e"
      },
      "outputs": [
        {
          "output_type": "stream",
          "name": "stdout",
          "text": [
            "Enter password: 382293\n",
            "Access denied!\n",
            "Tries: 1\n",
            "Enter password: 389s9q9\n",
            "Access denied!\n",
            "Tries: 2\n",
            "Enter password: 3jdncce\n",
            "Access denied!\n",
            "Tries: 3\n",
            "Enter password: ed2j3e\n",
            "Access denied!\n",
            "Tries: 4\n",
            "Enter password: 23jd2\n",
            "Access denied!\n",
            "Tries: 5\n",
            "Enter password: arubf'\n",
            "Access denied!\n",
            "Tries: 6\n",
            "Enter password: !@#$%^&*()\n",
            "Access granted!\n"
          ]
        }
      ],
      "source": [
        "# TODO\n",
        "counter = 0\n",
        "password = \"!@#$%^&*()\"\n",
        "value = 3\n",
        "while value != password:\n",
        "  value = input(\"Enter password: \")\n",
        "  if value != password:\n",
        "    print(\"Access denied!\")\n",
        "    counter += 1\n",
        "    print(f\"Tries: {counter}\")\n",
        "  else:\n",
        "    print(\"Access granted!\")"
      ]
    },
    {
      "cell_type": "markdown",
      "id": "a970def2",
      "metadata": {
        "id": "a970def2"
      },
      "source": [
        "c, 5 points) Finally, modify this program so that it helpfully displays a list of all the passwords tried so far when the password is incorrect, like \"Tried: [tried list]\".  You don't need to make this pretty - you can call str() on your list and concatenate that to \"Tried: \".  For example, if the passwords tried so far are \"foo\" and \"bar\", then after \"Tries: 2\" the program should print on the next line \"Tried: ['foo', 'bar']\"."
      ]
    },
    {
      "cell_type": "code",
      "execution_count": 63,
      "id": "56c5bd2f",
      "metadata": {
        "id": "56c5bd2f",
        "colab": {
          "base_uri": "https://localhost:8080/"
        },
        "outputId": "d6dba192-e071-4739-8d53-63dd89c4deee"
      },
      "outputs": [
        {
          "output_type": "stream",
          "name": "stdout",
          "text": [
            "Enter password: ajqdid'\n",
            "Access denied!\n",
            "Tries: 1\n",
            "Tried: [\"ajqdid'\"]\n",
            "Enter password: sjxxeiw\n",
            "Access denied!\n",
            "Tries: 2\n",
            "Tried: [\"ajqdid'\", 'sjxxeiw']\n",
            "Enter password: 291828912\n",
            "Access denied!\n",
            "Tries: 3\n",
            "Tried: [\"ajqdid'\", 'sjxxeiw', '291828912']\n",
            "Enter password: !@#$%^&*()\n",
            "Access granted!\n"
          ]
        }
      ],
      "source": [
        "# TODO\n",
        "\n",
        "counter = 0\n",
        "password = \"!@#$%^&*()\"\n",
        "value = 3\n",
        "list_pass = []\n",
        "while value != password:\n",
        "  value = input(\"Enter password: \")\n",
        "  list_pass.append(value)\n",
        "  if value != password:\n",
        "    print(\"Access denied!\")\n",
        "    counter += 1\n",
        "    print(f\"Tries: {counter}\")\n",
        "    print(f\"Tried: {list_pass}\")\n",
        "  else:\n",
        "    print(\"Access granted!\")"
      ]
    },
    {
      "cell_type": "markdown",
      "id": "06810ce6",
      "metadata": {
        "id": "06810ce6"
      },
      "source": [
        "# 5) Lists: Hooray for second place (12 points)"
      ]
    },
    {
      "cell_type": "markdown",
      "id": "3a5ccbf0",
      "metadata": {
        "id": "3a5ccbf0"
      },
      "source": [
        "This next program should prompt the user with \"Enter a positive integer (-1 to quit)\", getting a new number every time until the user enters -1.  (You can assume the input is an integer, but if the input is 0 or less, ignore it.)  Then if there were at least 2 inputs, report the second smallest value and the second largest value.  (If there were 1 or 0 inputs, say \"Too few inputs\" and quit without trying to report these values.) For example, if the input were 5, then 3, then 1, then 7, the first line of output would be \"Second smallest: 3\" and the next line of output would be \"Second largest: 5\".  (Hint:  don't forget about a very useful list method for organizing your values....)"
      ]
    },
    {
      "cell_type": "code",
      "execution_count": 73,
      "id": "ae14b6a7",
      "metadata": {
        "id": "ae14b6a7",
        "colab": {
          "base_uri": "https://localhost:8080/",
          "height": 365
        },
        "collapsed": true,
        "outputId": "216aa5e8-ee71-4d69-b977-bb919db7cf86"
      },
      "outputs": [
        {
          "output_type": "error",
          "ename": "KeyboardInterrupt",
          "evalue": "Interrupted by user",
          "traceback": [
            "\u001b[0;31m---------------------------------------------------------------------------\u001b[0m",
            "\u001b[0;31mKeyboardInterrupt\u001b[0m                         Traceback (most recent call last)",
            "\u001b[0;32m<ipython-input-73-43a8f071abea>\u001b[0m in \u001b[0;36m<cell line: 8>\u001b[0;34m()\u001b[0m\n\u001b[1;32m      7\u001b[0m \u001b[0;34m\u001b[0m\u001b[0m\n\u001b[1;32m      8\u001b[0m \u001b[0;32mwhile\u001b[0m \u001b[0mvalue\u001b[0m \u001b[0;34m!=\u001b[0m \u001b[0;34m-\u001b[0m\u001b[0;36m1\u001b[0m\u001b[0;34m:\u001b[0m\u001b[0;34m\u001b[0m\u001b[0;34m\u001b[0m\u001b[0m\n\u001b[0;32m----> 9\u001b[0;31m   \u001b[0mvalue\u001b[0m \u001b[0;34m=\u001b[0m \u001b[0mint\u001b[0m\u001b[0;34m(\u001b[0m\u001b[0minput\u001b[0m\u001b[0;34m(\u001b[0m\u001b[0;34m\"Enter a positive integer (-1 to quit)\"\u001b[0m\u001b[0;34m)\u001b[0m\u001b[0;34m)\u001b[0m\u001b[0;34m\u001b[0m\u001b[0;34m\u001b[0m\u001b[0m\n\u001b[0m\u001b[1;32m     10\u001b[0m   \u001b[0;32mif\u001b[0m \u001b[0mvalue\u001b[0m \u001b[0;34m>\u001b[0m \u001b[0;36m0\u001b[0m\u001b[0;34m:\u001b[0m\u001b[0;34m\u001b[0m\u001b[0;34m\u001b[0m\u001b[0m\n\u001b[1;32m     11\u001b[0m     \u001b[0mlist\u001b[0m\u001b[0;34m.\u001b[0m\u001b[0mappend\u001b[0m\u001b[0;34m(\u001b[0m\u001b[0mvalue\u001b[0m\u001b[0;34m)\u001b[0m\u001b[0;34m\u001b[0m\u001b[0;34m\u001b[0m\u001b[0m\n",
            "\u001b[0;32m/usr/local/lib/python3.10/dist-packages/ipykernel/kernelbase.py\u001b[0m in \u001b[0;36mraw_input\u001b[0;34m(self, prompt)\u001b[0m\n\u001b[1;32m    849\u001b[0m                 \u001b[0;34m\"raw_input was called, but this frontend does not support input requests.\"\u001b[0m\u001b[0;34m\u001b[0m\u001b[0;34m\u001b[0m\u001b[0m\n\u001b[1;32m    850\u001b[0m             )\n\u001b[0;32m--> 851\u001b[0;31m         return self._input_request(str(prompt),\n\u001b[0m\u001b[1;32m    852\u001b[0m             \u001b[0mself\u001b[0m\u001b[0;34m.\u001b[0m\u001b[0m_parent_ident\u001b[0m\u001b[0;34m,\u001b[0m\u001b[0;34m\u001b[0m\u001b[0;34m\u001b[0m\u001b[0m\n\u001b[1;32m    853\u001b[0m             \u001b[0mself\u001b[0m\u001b[0;34m.\u001b[0m\u001b[0m_parent_header\u001b[0m\u001b[0;34m,\u001b[0m\u001b[0;34m\u001b[0m\u001b[0;34m\u001b[0m\u001b[0m\n",
            "\u001b[0;32m/usr/local/lib/python3.10/dist-packages/ipykernel/kernelbase.py\u001b[0m in \u001b[0;36m_input_request\u001b[0;34m(self, prompt, ident, parent, password)\u001b[0m\n\u001b[1;32m    893\u001b[0m             \u001b[0;32mexcept\u001b[0m \u001b[0mKeyboardInterrupt\u001b[0m\u001b[0;34m:\u001b[0m\u001b[0;34m\u001b[0m\u001b[0;34m\u001b[0m\u001b[0m\n\u001b[1;32m    894\u001b[0m                 \u001b[0;31m# re-raise KeyboardInterrupt, to truncate traceback\u001b[0m\u001b[0;34m\u001b[0m\u001b[0;34m\u001b[0m\u001b[0m\n\u001b[0;32m--> 895\u001b[0;31m                 \u001b[0;32mraise\u001b[0m \u001b[0mKeyboardInterrupt\u001b[0m\u001b[0;34m(\u001b[0m\u001b[0;34m\"Interrupted by user\"\u001b[0m\u001b[0;34m)\u001b[0m \u001b[0;32mfrom\u001b[0m \u001b[0;32mNone\u001b[0m\u001b[0;34m\u001b[0m\u001b[0;34m\u001b[0m\u001b[0m\n\u001b[0m\u001b[1;32m    896\u001b[0m             \u001b[0;32mexcept\u001b[0m \u001b[0mException\u001b[0m \u001b[0;32mas\u001b[0m \u001b[0me\u001b[0m\u001b[0;34m:\u001b[0m\u001b[0;34m\u001b[0m\u001b[0;34m\u001b[0m\u001b[0m\n\u001b[1;32m    897\u001b[0m                 \u001b[0mself\u001b[0m\u001b[0;34m.\u001b[0m\u001b[0mlog\u001b[0m\u001b[0;34m.\u001b[0m\u001b[0mwarning\u001b[0m\u001b[0;34m(\u001b[0m\u001b[0;34m\"Invalid Message:\"\u001b[0m\u001b[0;34m,\u001b[0m \u001b[0mexc_info\u001b[0m\u001b[0;34m=\u001b[0m\u001b[0;32mTrue\u001b[0m\u001b[0;34m)\u001b[0m\u001b[0;34m\u001b[0m\u001b[0;34m\u001b[0m\u001b[0m\n",
            "\u001b[0;31mKeyboardInterrupt\u001b[0m: Interrupted by user"
          ]
        }
      ],
      "source": [
        "# TODO\n",
        "\n",
        "\n",
        "list = []\n",
        "value = \"start\"\n",
        "\n",
        "\n",
        "while value != -1:\n",
        "  value = int(input(\"Enter a positive integer (-1 to quit)\"))\n",
        "  if value > 0:\n",
        "    list.append(value)\n",
        "\n",
        "if len(list) <2:\n",
        "    print(\"Too few inputs\")\n",
        "else:\n",
        "    list.sort()\n",
        "    print(f\"Second smallest: {list[1]}\")\n",
        "    print(f\"Second largest: {list[-2]}\")\n",
        "\n"
      ]
    },
    {
      "cell_type": "code",
      "source": [
        "list"
      ],
      "metadata": {
        "colab": {
          "base_uri": "https://localhost:8080/"
        },
        "id": "v7F-Y4nY0JJT",
        "outputId": "80bf6f5a-6ede-40c1-9254-7a3072e5eb1f"
      },
      "id": "v7F-Y4nY0JJT",
      "execution_count": 67,
      "outputs": [
        {
          "output_type": "execute_result",
          "data": {
            "text/plain": [
              "[34, 44]"
            ]
          },
          "metadata": {},
          "execution_count": 67
        }
      ]
    },
    {
      "cell_type": "markdown",
      "id": "11cfa501",
      "metadata": {
        "id": "11cfa501"
      },
      "source": [
        "# 6) Choosing an approach: stock streak (12 points)\n",
        "\n",
        "Write a program that prompts the user for a stock price.  It should keep asking for stock prices (similarly to previous problems in this assignment) until a number smaller than the previous entry is entered.  Once this happens, report the number of days of the upward streak; and on the next line, the lowest value of the streak; and on the line after that, the largest value in the streak.  For example, if the input were 10.0, 12.0, 14.0, 16.0, 15.0, the output would be\n",
        "\n",
        "<code>\n",
        "4 day streak\n",
        "low 10.0\n",
        "high 16.0\n",
        "</code>"
      ]
    },
    {
      "cell_type": "code",
      "execution_count": null,
      "id": "c0c4004c",
      "metadata": {
        "id": "c0c4004c",
        "colab": {
          "base_uri": "https://localhost:8080/"
        },
        "outputId": "09539437-4103-413a-812a-7545dc7b0717"
      },
      "outputs": [
        {
          "name": "stdout",
          "output_type": "stream",
          "text": [
            "Enter stock price: e.g. 10.0, 17.33\n",
            "Enter stock price e.g. 10.0, 17.3:  3\n",
            "Enter stock price e.g. 10.0, 17.3:  4\n"
          ]
        }
      ],
      "source": [
        "# TODO\n",
        "\n",
        "list = []\n",
        "price = float(input(\"Enter stock price e.g. 10.0, 17.3:  \"))\n",
        "list.append(price)\n",
        "\n",
        "while True:\n",
        "  current_price = float(input(\"Enter stock price e.g. 10.0, 17.3:  \"))\n",
        "  if current_price < price:\n",
        "    list.append(current_price)\n",
        "    list.sort()\n",
        "    print(f\"{len(list)} day streak low {list[0]} high {list[-1]}\")\n",
        "    break\n",
        "  else:\n",
        "    price = current_price\n",
        "    list.append(price)\n",
        "    list.sort()"
      ]
    },
    {
      "cell_type": "markdown",
      "id": "1a75a084",
      "metadata": {
        "id": "1a75a084"
      },
      "source": [
        "**When you are done, submit both your .ipynb (File->Download->Download .ipynb in Google Colab) and a PDF (File->Print->Save to PDF) to Blackboard where you found this assignment.**  (The backup PDF helps us give you points if there's a problem with your .ipynb.)"
      ]
    },
    {
      "cell_type": "code",
      "execution_count": null,
      "id": "3e9ee5aa",
      "metadata": {
        "id": "3e9ee5aa"
      },
      "outputs": [],
      "source": []
    }
  ],
  "metadata": {
    "kernelspec": {
      "display_name": "Python 3 (ipykernel)",
      "language": "python",
      "name": "python3"
    },
    "language_info": {
      "codemirror_mode": {
        "name": "ipython",
        "version": 3
      },
      "file_extension": ".py",
      "mimetype": "text/x-python",
      "name": "python",
      "nbconvert_exporter": "python",
      "pygments_lexer": "ipython3",
      "version": "3.8.8"
    },
    "colab": {
      "provenance": []
    }
  },
  "nbformat": 4,
  "nbformat_minor": 5
}