{
  "cells": [
    {
      "cell_type": "markdown",
      "metadata": {
        "id": "s1fDQwXruHyu"
      },
      "source": [
        "## (70 points possible)"
      ]
    },
    {
      "cell_type": "markdown",
      "metadata": {
        "id": "4kvgXjUouHyv"
      },
      "source": [
        "# 1) Logic (10 pts: 5, 5)"
      ]
    },
    {
      "cell_type": "markdown",
      "metadata": {
        "id": "OhCaRFquuHyw"
      },
      "source": [
        "a, 5 pts) A casino wants to give \"Gold\" status to customers who have either 1) spent 10000 dollars or more, or 2) spent 100 nights or more at the hotel.  But if both are true, it wants to give the customer \"platinum\" status.  Can you fix the bug in the following code by *just* changing the condition in the first line to a more complex condition?  (Thus, the platinum case should remain second.)  You can also add variable assignments to help you test if you like."
      ]
    },
    {
      "cell_type": "code",
      "execution_count": null,
      "metadata": {
        "colab": {
          "base_uri": "https://localhost:8080/"
        },
        "id": "GK9aayf2uHyw",
        "outputId": "00e50e3f-9fc9-40bf-d06e-8e99758778f9"
      },
      "outputs": [
        {
          "output_type": "stream",
          "name": "stdout",
          "text": [
            "Gold\n"
          ]
        }
      ],
      "source": [
        "spending = 10001\n",
        "nights = 101\n",
        "\n",
        "if spending >= 10000 or nights >= 100:\n",
        "    print(\"Gold\")\n",
        "elif spending >= 10000 and nights >= 100:\n",
        "    print(\"Platinum\")\n",
        "else:\n",
        "    print(\"Normal\")"
      ]
    },
    {
      "cell_type": "markdown",
      "metadata": {
        "id": "lfInk5ijuHyx"
      },
      "source": [
        "Your fix:"
      ]
    },
    {
      "cell_type": "code",
      "execution_count": null,
      "metadata": {
        "colab": {
          "base_uri": "https://localhost:8080/"
        },
        "id": "Z1RJoUcuuHyx",
        "outputId": "73625c27-f0f9-46c4-d519-fb1f7a9c56fb"
      },
      "outputs": [
        {
          "output_type": "stream",
          "name": "stdout",
          "text": [
            "Platinum\n"
          ]
        }
      ],
      "source": [
        "# TODO\n",
        "spending = 10001\n",
        "nights = 101\n",
        "\n",
        "if (spending >= 10000 or nights >= 100) and not (spending >= 10000 and nights >= 100):\n",
        "  print(\"Gold\")\n",
        "elif spending >= 10000 and nights >= 100:\n",
        "  print(\"Platinum\")\n",
        "else:\n",
        "  print(\"Normal\")"
      ]
    },
    {
      "cell_type": "markdown",
      "metadata": {
        "id": "2uINMeXduHyx"
      },
      "source": [
        "b, 5 pts) Set the variables to the values necessary to make \"result\" True.  (If it helps to understand what is going on, the code later will perform some mathematical analysis, and it's going to either do a few passes over the data (\"iterations\") or a lot of passes; it will do an amount of logging its actions that ranges from none to a lot; it may or may not be \"verbose\" and tell the user what it's doing at each step; and it may or may not use the GPU, the graphics processing unit, to speed up the analysis.  But, you don't technically need to know that to do the problem.)\n"
      ]
    },
    {
      "cell_type": "code",
      "execution_count": null,
      "metadata": {
        "colab": {
          "base_uri": "https://localhost:8080/"
        },
        "id": "D7tzSljJuHyx",
        "outputId": "2e0aa717-b545-47de-b4e3-63f5a701d8aa"
      },
      "outputs": [
        {
          "output_type": "execute_result",
          "data": {
            "text/plain": [
              "True"
            ]
          },
          "metadata": {},
          "execution_count": 2
        }
      ],
      "source": [
        "log_level = 0       # TODO:  change to 1 if necessary\n",
        "verbose = True      # TODO:  change to True if necessary\n",
        "gpu_enabled = True   # TODO:  change to True if necessary\n",
        "extensive = True     # TODO:  change to True if necessary\n",
        "if extensive:\n",
        "    iterations = 20\n",
        "else:\n",
        "    iterations = 5\n",
        "logging = log_level != 0\n",
        "run_full_analysis = iterations >= 10 and gpu_enabled\n",
        "result = run_full_analysis and verbose and not logging\n",
        "result"
      ]
    },
    {
      "cell_type": "markdown",
      "metadata": {
        "id": "Nt_a3R1BuHyy"
      },
      "source": [
        "# 2) Importing modules (4 pts)\n",
        "\n",
        "Answer the following questions."
      ]
    },
    {
      "cell_type": "markdown",
      "metadata": {
        "id": "lvpjx8ueuHyy"
      },
      "source": [
        "a, 2pts) Using the keyword `from`, import the following functions from the math module. Compute and print the values of\n",
        "```\n",
        "ceil(3.1)\n",
        "floor(3.9)\n",
        "factorial(5)\n",
        "gcd(13, 9)\n",
        "sqrt(64)\n",
        "```"
      ]
    },
    {
      "cell_type": "code",
      "execution_count": null,
      "metadata": {
        "colab": {
          "base_uri": "https://localhost:8080/"
        },
        "id": "72GmBMXtuHyy",
        "outputId": "ae4cc1a8-1efc-4a5e-ec84-a9ea81cc71e1"
      },
      "outputs": [
        {
          "output_type": "stream",
          "name": "stdout",
          "text": [
            "4\n",
            "3\n",
            "120\n",
            "1\n",
            "8.0\n"
          ]
        }
      ],
      "source": [
        "import math as m\n",
        "ceil = m.ceil(3.1)\n",
        "print(ceil)\n",
        "\n",
        "floor = m.floor(3.9)\n",
        "print(floor)\n",
        "\n",
        "factorial = m.factorial(5)\n",
        "print(factorial)\n",
        "\n",
        "gcd = m.gcd(13, 9)\n",
        "print(gcd)\n",
        "\n",
        "sqrt = m.sqrt(64)\n",
        "print(sqrt)"
      ]
    },
    {
      "cell_type": "markdown",
      "metadata": {
        "id": "RzNq4J39uHyy"
      },
      "source": [
        "b, 2pt) Import the string module. Print the values of\n",
        "```\n",
        "string.ascii_lowercase\n",
        "string.ascii_lowercase[-1]\n",
        "```"
      ]
    },
    {
      "cell_type": "code",
      "execution_count": null,
      "metadata": {
        "colab": {
          "base_uri": "https://localhost:8080/",
          "height": 35
        },
        "id": "rApovuVEuHyz",
        "outputId": "7aedba67-282b-4b7c-b021-5cb5757217a7"
      },
      "outputs": [
        {
          "output_type": "execute_result",
          "data": {
            "text/plain": [
              "'z'"
            ],
            "application/vnd.google.colaboratory.intrinsic+json": {
              "type": "string"
            }
          },
          "metadata": {},
          "execution_count": 4
        }
      ],
      "source": [
        "# TODO\n",
        "\n",
        "import string as str\n",
        "\n",
        "str.ascii_lowercase\n",
        "str.ascii_lowercase[-1]"
      ]
    },
    {
      "cell_type": "markdown",
      "metadata": {
        "id": "ii65S9i-uHyz"
      },
      "source": [
        "# 3) Loops at the zoo (25 pts: 8, 2, 10, 15)\n",
        "\n",
        "You work as a data scientist for a small zoo. The manager needs information about the animals at the zoo. The zoo has the following animals:\n",
        "\n",
        "```\n",
        "['antelope', 'bear', 'cat', 'dog', 'elephant', 'frog', 'giraffe', 'horse', 'iguana', 'jaguar', 'kangaroo', 'lion', 'monkey', 'nightingale', 'ostrich', 'penguin', 'quail', 'rabbit', 'snake', 'tiger', 'urial', 'vulture', 'whale', 'xenops', 'yak', 'zebra']\n",
        "```\n",
        "\n",
        "a, 8 pts) Your manager first wants you to create an index of the form `[('a', 1), ..., ('z', 26)]`. Specifically, this is a list of tuples. Store this index in a variable called `idx`. Do not write the list of 26 tuples out verbatim; for full credit, iterate over string.ascii_lowercase.\n"
      ]
    },
    {
      "cell_type": "code",
      "execution_count": null,
      "metadata": {
        "colab": {
          "base_uri": "https://localhost:8080/"
        },
        "id": "aovoFx-wuHyz",
        "outputId": "70b1896b-de81-4b40-dde1-312642d4a5d7"
      },
      "outputs": [
        {
          "output_type": "stream",
          "name": "stdout",
          "text": [
            "[('a', 1), ('b', 2), ('c', 3), ('d', 4), ('e', 5), ('f', 6), ('g', 7), ('h', 8), ('i', 9), ('j', 10), ('k', 11), ('l', 12), ('m', 13), ('n', 14), ('o', 15), ('p', 16), ('q', 17), ('r', 18), ('s', 19), ('t', 20), ('u', 21), ('v', 22), ('w', 23), ('x', 24), ('y', 25), ('z', 26)]\n"
          ]
        }
      ],
      "source": [
        "# TODO\n",
        "\n",
        "idx = []\n",
        "for index, letter in enumerate(str.ascii_lowercase):\n",
        "  value = ((letter, index+1))\n",
        "  idx.append(value)\n",
        "\n",
        "print(idx)"
      ]
    },
    {
      "cell_type": "markdown",
      "metadata": {
        "id": "RYiH5jdXuHyz"
      },
      "source": [
        "\n",
        "\n",
        "---\n",
        "\n",
        "\n",
        "b, 2 pts) After generating this list, your manager wants you to create a list of lists where the first list is the index `idx` created in part a, and the second list are the names of the animals in the zoo. Store this list of list as a variable called `zoo_data`.\n"
      ]
    },
    {
      "cell_type": "code",
      "execution_count": null,
      "metadata": {
        "colab": {
          "base_uri": "https://localhost:8080/"
        },
        "id": "tyICrS-RuHyz",
        "outputId": "baf87bb9-862c-4367-c58f-a12681d3576c"
      },
      "outputs": [
        {
          "output_type": "execute_result",
          "data": {
            "text/plain": [
              "[[('a', 1),\n",
              "  ('b', 2),\n",
              "  ('c', 3),\n",
              "  ('d', 4),\n",
              "  ('e', 5),\n",
              "  ('f', 6),\n",
              "  ('g', 7),\n",
              "  ('h', 8),\n",
              "  ('i', 9),\n",
              "  ('j', 10),\n",
              "  ('k', 11),\n",
              "  ('l', 12),\n",
              "  ('m', 13),\n",
              "  ('n', 14),\n",
              "  ('o', 15),\n",
              "  ('p', 16),\n",
              "  ('q', 17),\n",
              "  ('r', 18),\n",
              "  ('s', 19),\n",
              "  ('t', 20),\n",
              "  ('u', 21),\n",
              "  ('v', 22),\n",
              "  ('w', 23),\n",
              "  ('x', 24),\n",
              "  ('y', 25),\n",
              "  ('z', 26)],\n",
              " ['antelope',\n",
              "  'bear',\n",
              "  'cat',\n",
              "  'dog',\n",
              "  'elephant',\n",
              "  'frog',\n",
              "  'giraffe',\n",
              "  'horse',\n",
              "  'iguana',\n",
              "  'jaguar',\n",
              "  'kangaroo',\n",
              "  'lion',\n",
              "  'monkey',\n",
              "  'nightingale',\n",
              "  'ostrich',\n",
              "  'penguin',\n",
              "  'quail',\n",
              "  'rabbit',\n",
              "  'snake',\n",
              "  'tiger',\n",
              "  'urial',\n",
              "  'vulture',\n",
              "  'whale',\n",
              "  'xenops',\n",
              "  'yak',\n",
              "  'zebra']]"
            ]
          },
          "metadata": {},
          "execution_count": 12
        }
      ],
      "source": [
        "# TODO\n",
        "animal = ['antelope', 'bear', 'cat', 'dog', 'elephant', 'frog', 'giraffe', 'horse', 'iguana', 'jaguar', 'kangaroo', 'lion', 'monkey', 'nightingale', 'ostrich', 'penguin', 'quail', 'rabbit', 'snake', 'tiger', 'urial', 'vulture', 'whale', 'xenops', 'yak', 'zebra']\n",
        "\n",
        "zoo_data = [idx, animal]\n",
        "\n",
        "zoo_data"
      ]
    },
    {
      "cell_type": "markdown",
      "metadata": {
        "id": "3PuBZ1TvuHyz"
      },
      "source": [
        "\n",
        "c, 10 pts) Your manager then wants you to add another list to your list of lists. The third list is the number of letter a's in the name of each animal in the zoo. Use list comprehension and an appropriate string function to create the initial list with the letter a counts.\n"
      ]
    },
    {
      "cell_type": "code",
      "execution_count": null,
      "metadata": {
        "colab": {
          "base_uri": "https://localhost:8080/"
        },
        "id": "aLFQkquMuHy0",
        "outputId": "2ed0cf2f-c7da-40c5-c0ee-0875e9936ac3"
      },
      "outputs": [
        {
          "output_type": "execute_result",
          "data": {
            "text/plain": [
              "[[('a', 1),\n",
              "  ('b', 2),\n",
              "  ('c', 3),\n",
              "  ('d', 4),\n",
              "  ('e', 5),\n",
              "  ('f', 6),\n",
              "  ('g', 7),\n",
              "  ('h', 8),\n",
              "  ('i', 9),\n",
              "  ('j', 10),\n",
              "  ('k', 11),\n",
              "  ('l', 12),\n",
              "  ('m', 13),\n",
              "  ('n', 14),\n",
              "  ('o', 15),\n",
              "  ('p', 16),\n",
              "  ('q', 17),\n",
              "  ('r', 18),\n",
              "  ('s', 19),\n",
              "  ('t', 20),\n",
              "  ('u', 21),\n",
              "  ('v', 22),\n",
              "  ('w', 23),\n",
              "  ('x', 24),\n",
              "  ('y', 25),\n",
              "  ('z', 26)],\n",
              " ['antelope',\n",
              "  'bear',\n",
              "  'cat',\n",
              "  'dog',\n",
              "  'elephant',\n",
              "  'frog',\n",
              "  'giraffe',\n",
              "  'horse',\n",
              "  'iguana',\n",
              "  'jaguar',\n",
              "  'kangaroo',\n",
              "  'lion',\n",
              "  'monkey',\n",
              "  'nightingale',\n",
              "  'ostrich',\n",
              "  'penguin',\n",
              "  'quail',\n",
              "  'rabbit',\n",
              "  'snake',\n",
              "  'tiger',\n",
              "  'urial',\n",
              "  'vulture',\n",
              "  'whale',\n",
              "  'xenops',\n",
              "  'yak',\n",
              "  'zebra'],\n",
              " [1,\n",
              "  1,\n",
              "  1,\n",
              "  0,\n",
              "  1,\n",
              "  0,\n",
              "  1,\n",
              "  0,\n",
              "  2,\n",
              "  2,\n",
              "  2,\n",
              "  0,\n",
              "  0,\n",
              "  1,\n",
              "  0,\n",
              "  0,\n",
              "  1,\n",
              "  1,\n",
              "  1,\n",
              "  0,\n",
              "  1,\n",
              "  0,\n",
              "  1,\n",
              "  0,\n",
              "  1,\n",
              "  1]]"
            ]
          },
          "metadata": {},
          "execution_count": 13
        }
      ],
      "source": [
        "# TODO\n",
        "\n",
        "a_count = [animal.count(\"a\") for animal in zoo_data[1]]\n",
        "zoo_data.append(a_count)\n",
        "zoo_data"
      ]
    },
    {
      "cell_type": "markdown",
      "metadata": {
        "id": "BR0yxNEnuHy0"
      },
      "source": [
        "\n",
        "d, 15 pts) Your manager wants you to help him figure out how many zoo animals have 2 or more a's in their name. Using a single loop, extract a list that contains the index tuples and the animal names for all animals with 2 or more a's in their name. The output should be a list of the form:\n",
        "```\n",
        "zoo_data_2a = [[('i', 9), 'iguana'], [('j', 10), 'jaguar'], [('k', 11), 'kangaroo']]\n",
        "```"
      ]
    },
    {
      "cell_type": "code",
      "source": [
        "zoo_data[1]\n",
        "len(zoo_data[2])"
      ],
      "metadata": {
        "colab": {
          "base_uri": "https://localhost:8080/"
        },
        "id": "Iz3IlkJY3vpN",
        "outputId": "0ac80d4b-42b9-494c-e282-561096a0c1cf"
      },
      "execution_count": null,
      "outputs": [
        {
          "output_type": "execute_result",
          "data": {
            "text/plain": [
              "26"
            ]
          },
          "metadata": {},
          "execution_count": 29
        }
      ]
    },
    {
      "cell_type": "code",
      "execution_count": null,
      "metadata": {
        "id": "Vq9VnmH3uHy0",
        "colab": {
          "base_uri": "https://localhost:8080/"
        },
        "outputId": "af2dc285-53af-4786-f769-b9fcb91e5445"
      },
      "outputs": [
        {
          "output_type": "execute_result",
          "data": {
            "text/plain": [
              "[[('i', 9), 'iguana'], [('j', 10), 'jaguar'], [('k', 11), 'kangaroo']]"
            ]
          },
          "metadata": {},
          "execution_count": 49
        }
      ],
      "source": [
        "# TODO\n",
        "zoo_data_2a = []\n",
        "\n",
        "count = 0\n",
        "for index in range(len(zoo_data[2])-1):\n",
        "  if zoo_data[2][index] >= 2:\n",
        "    list_2 = [zoo_data[0][index], zoo_data[1][index]]\n",
        "    zoo_data_2a.append(list_2)\n",
        "\n",
        "\n",
        "zoo_data_2a"
      ]
    },
    {
      "cell_type": "markdown",
      "metadata": {
        "id": "hQY2odVDuHy0"
      },
      "source": [
        "# 4) Testing and debugging (20 pts: 5, 15)\n",
        "\n",
        "a 5 pts) Your colleague  Amalia comes to you with the following snippet of Python code that she says is not working. Write the correct code in the empty cell below. Be aware that there are multiple errors."
      ]
    },
    {
      "cell_type": "code",
      "execution_count": null,
      "metadata": {
        "id": "lEVVHUfOuHy0"
      },
      "outputs": [],
      "source": [
        "# Amalia's incorrect code\n",
        "\n",
        "value = input('Enter a number: ')\n",
        "while value > 0\n",
        "    print(value\n",
        "    value = value - 1"
      ]
    },
    {
      "cell_type": "code",
      "execution_count": null,
      "metadata": {
        "colab": {
          "base_uri": "https://localhost:8080/"
        },
        "id": "-u5BnPxzuHy0",
        "outputId": "0d56ab5b-56c6-4922-db88-81b07bb01a19"
      },
      "outputs": [
        {
          "output_type": "stream",
          "name": "stdout",
          "text": [
            "Enter a number: 7\n",
            "7\n",
            "6\n",
            "5\n",
            "4\n",
            "3\n",
            "2\n",
            "1\n"
          ]
        }
      ],
      "source": [
        "# TODO\n",
        "\n",
        "value = int(input('Enter a number: '))\n",
        "while value > 0:\n",
        "  print(value)\n",
        "  value = value - 1\n"
      ]
    },
    {
      "cell_type": "markdown",
      "metadata": {
        "id": "p6I6qABruHy1"
      },
      "source": [
        "b 15 pts) After fixing her code, Amalia comes for help again. She has a list\n",
        "```\n",
        "my_integers = [3, 4, 5, 6, 11, 120, -10, 1]\n",
        "```\n",
        "and she is trying to check if an input number is in the list. If the input number is in the list she wants to print `True in the list` otherwise `False not in the list`. The current code only gives errors. Fix the code so that there are no more errors."
      ]
    },
    {
      "cell_type": "code",
      "execution_count": null,
      "metadata": {
        "colab": {
          "base_uri": "https://localhost:8080/",
          "height": 216
        },
        "id": "5JaacgHeuHy1",
        "outputId": "818168b2-d305-4935-a899-b71995008201"
      },
      "outputs": [
        {
          "output_type": "error",
          "ename": "NameError",
          "evalue": "name 'false' is not defined",
          "traceback": [
            "\u001b[0;31m---------------------------------------------------------------------------\u001b[0m",
            "\u001b[0;31mNameError\u001b[0m                                 Traceback (most recent call last)",
            "\u001b[0;32m<ipython-input-30-eb180c9537bd>\u001b[0m in \u001b[0;36m<cell line: 4>\u001b[0;34m()\u001b[0m\n\u001b[1;32m      2\u001b[0m \u001b[0;34m\u001b[0m\u001b[0m\n\u001b[1;32m      3\u001b[0m \u001b[0mmy_integers\u001b[0m \u001b[0;34m=\u001b[0m \u001b[0;34m[\u001b[0m\u001b[0;36m3\u001b[0m\u001b[0;34m,\u001b[0m \u001b[0;36m4\u001b[0m\u001b[0;34m,\u001b[0m \u001b[0;36m5\u001b[0m\u001b[0;34m,\u001b[0m \u001b[0;36m6\u001b[0m\u001b[0;34m,\u001b[0m \u001b[0;36m11\u001b[0m\u001b[0;34m,\u001b[0m \u001b[0;36m120\u001b[0m\u001b[0;34m,\u001b[0m \u001b[0;34m-\u001b[0m\u001b[0;36m10\u001b[0m\u001b[0;34m,\u001b[0m \u001b[0;36m1\u001b[0m\u001b[0;34m]\u001b[0m\u001b[0;34m\u001b[0m\u001b[0;34m\u001b[0m\u001b[0m\n\u001b[0;32m----> 4\u001b[0;31m \u001b[0min_the_list\u001b[0m \u001b[0;34m=\u001b[0m \u001b[0mfalse\u001b[0m\u001b[0;34m\u001b[0m\u001b[0;34m\u001b[0m\u001b[0m\n\u001b[0m\u001b[1;32m      5\u001b[0m \u001b[0mvalue\u001b[0m \u001b[0;34m=\u001b[0m \u001b[0minput\u001b[0m\u001b[0;34m(\u001b[0m\u001b[0;34m\"Check if this number is in the list: \"\u001b[0m\u001b[0;34m)\u001b[0m\u001b[0;34m\u001b[0m\u001b[0;34m\u001b[0m\u001b[0m\n\u001b[1;32m      6\u001b[0m \u001b[0;32mfor\u001b[0m \u001b[0mi\u001b[0m \u001b[0;32min\u001b[0m \u001b[0mmy_integers\u001b[0m\u001b[0;34m:\u001b[0m\u001b[0;34m\u001b[0m\u001b[0;34m\u001b[0m\u001b[0m\n",
            "\u001b[0;31mNameError\u001b[0m: name 'false' is not defined"
          ]
        }
      ],
      "source": [
        "# Amalia's incorrect code\n",
        "\n",
        "my_integers = [3, 4, 5, 6, 11, 120, -10, 1]\n",
        "in_the_list = false\n",
        "value = input(\"Check if this number is in the list: \")\n",
        "for i in my_integers:\n",
        "    if value == j:\n",
        "        print(in_the_list + \" in the list\" )\n",
        "        break\n",
        "    else:\n",
        "        print(in_the_list + \" not in the list\")\n",
        "\n"
      ]
    },
    {
      "cell_type": "code",
      "execution_count": null,
      "metadata": {
        "colab": {
          "base_uri": "https://localhost:8080/"
        },
        "id": "cSVnLzveuHy1",
        "outputId": "d2000531-6677-4d1a-f831-79dd26f98ac3"
      },
      "outputs": [
        {
          "output_type": "stream",
          "name": "stdout",
          "text": [
            "Check if this number is in the list: 77\n",
            "False + not in the list\n"
          ]
        }
      ],
      "source": [
        "# TODO\n",
        "\n",
        "my_integers = [3, 4, 5, 6, 11, 120, -10, 1]\n",
        "in_the_list = False\n",
        "value = int(input(\"Check if this number is in the list: \"))\n",
        "\n",
        "for i in my_integers:\n",
        "    if i == value:\n",
        "        in_the_list = True\n",
        "        print(f\"{value} is in the list.\")\n",
        "        break\n",
        "if value not in my_integers:\n",
        "    in_the_list = False\n",
        "    print(f\"{in_the_list} + not in the list\")"
      ]
    },
    {
      "cell_type": "markdown",
      "metadata": {
        "id": "AlZMxuGJuHy1"
      },
      "source": [
        "# 5) Iteration (11 pts: 4, 1, 4, 2)\n"
      ]
    },
    {
      "cell_type": "markdown",
      "metadata": {
        "id": "pbKOiHUxuHy1"
      },
      "source": [
        "a 4 pts) You are given the following lines of code\n",
        "\n",
        "```\n",
        "print(count)\n",
        "count = 0\n",
        "count += 1\n",
        "for i in range(0, n):\n",
        "for j in range(0, n):\n",
        "n = 5\n",
        "```\n",
        "\n",
        "Correctly arrange these lines of code so that you print a value of 25 at the end of the execution."
      ]
    },
    {
      "cell_type": "code",
      "execution_count": null,
      "metadata": {
        "colab": {
          "base_uri": "https://localhost:8080/"
        },
        "id": "GWCHU7zfuHy1",
        "outputId": "fd748d10-e8cd-4e22-ad2a-c95ff8c80484"
      },
      "outputs": [
        {
          "output_type": "stream",
          "name": "stdout",
          "text": [
            "25\n"
          ]
        }
      ],
      "source": [
        "# TODO\n",
        "count = 0\n",
        "n = 5\n",
        "for i in range(0,n):\n",
        "  for j in range(0,n):\n",
        "    count += 1\n",
        "\n",
        "print(count)"
      ]
    },
    {
      "cell_type": "markdown",
      "metadata": {
        "id": "xSQB84WfuHy1"
      },
      "source": [
        "b 1 pt) Consider what happens when we assign different values to $n$.  How does the value of count depend on $n$ -- is it equal to $n$, $n^2$, $n^3$, or something else?  (You can click on this textbox to see how to format text with exponents.)"
      ]
    },
    {
      "cell_type": "markdown",
      "metadata": {
        "id": "SEfeko_YuHy2"
      },
      "source": [
        "Answer:"
      ]
    },
    {
      "cell_type": "markdown",
      "metadata": {
        "id": "_De1Xf9JuHy2"
      },
      "source": [
        "c 4 pts) You are given the following lines of code\n",
        "\n",
        "```\n",
        "print(count)\n",
        "count = 0\n",
        "count += 1\n",
        "count += 1\n",
        "for i in range(0, n):\n",
        "for i in range(0, n):\n",
        "n = 5\n",
        "```\n",
        "\n",
        "Correctly arrange these lines of code so that you print a value of 10 when you execute the code."
      ]
    },
    {
      "cell_type": "code",
      "execution_count": null,
      "metadata": {
        "colab": {
          "base_uri": "https://localhost:8080/"
        },
        "id": "_Xfxf8yKuHy2",
        "outputId": "640dd4b8-6d52-470b-a85f-18e772598c75"
      },
      "outputs": [
        {
          "output_type": "stream",
          "name": "stdout",
          "text": [
            "10\n"
          ]
        }
      ],
      "source": [
        "# TODO\n",
        "\n",
        "count = 0\n",
        "n = 5\n",
        "for i in range(0, n):\n",
        "  count +=1\n",
        "\n",
        "for i in range(0,n):\n",
        "  count +=1\n",
        "\n",
        "print(count)"
      ]
    },
    {
      "cell_type": "markdown",
      "metadata": {
        "id": "achTnlgGuHy2"
      },
      "source": [
        "d 2 pts) Now how does the value of count depend on `n`?\n"
      ]
    },
    {
      "cell_type": "markdown",
      "metadata": {
        "id": "8yRgQP9CuHy2"
      },
      "source": [
        "Answer: The value of count depends on n because it depends on how many type the code iterates through the for loop and thus increments the count value by 1.\n"
      ]
    },
    {
      "cell_type": "markdown",
      "metadata": {
        "id": "nyTfYWtRuHy2"
      },
      "source": [
        "**When you are done, submit both your .ipynb (File->Download->Download .ipynb in Google Colab) and a PDF (File->Print->Save to PDF) to Blackboard where you found this assignment.**  (The backup PDF helps us give you points if there's a problem with your .ipynb.)"
      ]
    }
  ],
  "metadata": {
    "kernelspec": {
      "display_name": "Python 3 (ipykernel)",
      "language": "python",
      "name": "python3"
    },
    "language_info": {
      "codemirror_mode": {
        "name": "ipython",
        "version": 3
      },
      "file_extension": ".py",
      "mimetype": "text/x-python",
      "name": "python",
      "nbconvert_exporter": "python",
      "pygments_lexer": "ipython3",
      "version": "3.9.19"
    },
    "colab": {
      "provenance": []
    }
  },
  "nbformat": 4,
  "nbformat_minor": 0
}