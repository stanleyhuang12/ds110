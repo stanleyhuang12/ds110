{
  "cells": [
    {
      "cell_type": "markdown",
      "metadata": {
        "id": "view-in-github",
        "colab_type": "text"
      },
      "source": [
        "<a href=\"https://colab.research.google.com/github/stanleyhuang12/ds110/blob/main/Stanley_HuangDS110_F24_HW8.ipynb\" target=\"_parent\"><img src=\"https://colab.research.google.com/assets/colab-badge.svg\" alt=\"Open In Colab\"/></a>"
      ]
    },
    {
      "cell_type": "markdown",
      "metadata": {
        "id": "y2_0e_U3Unyj"
      },
      "source": [
        "# HW8 (70 points total)"
      ]
    },
    {
      "cell_type": "markdown",
      "metadata": {
        "id": "6vs9GpXbWYcf"
      },
      "source": [
        "# Problem 1:   Forwarding the mail (8 points)"
      ]
    },
    {
      "cell_type": "markdown",
      "metadata": {
        "id": "01tZbxKcWYcg"
      },
      "source": [
        "There's just one email address for *Handy Home Helpers*, but there are three kinds of things the business does, each of which is handled by a different associate.  Alice handles bathroom work - clogged toilets and drains, mold removal, leaks.  Bob handles HVAC work - air conditioning and heating, mostly.  Chun does appliance repair:  dishwashers, washers, driers.  They'd like to have a script that can forward emails sent to the main address to the right associate.\n",
        "\n",
        "Write a function *forward(text, wv)* that reads the email *text* and returns the email address of the associate to whom the email should be forwarded (\"alice@hhh.com\", \"bob@hhh.com\", or \"chun@hhh.com\").  To do this, your code should create a vector for each associate that represents their interests overall, and return the email of the associate whose vector is closest in angle to the vector of the email.  Use *find_avg_word_vector()* and *find_cosine()* from lecture, and make use of the provided topic strings.  Break ties among the associates alphabetically, so for example Alice gets the mail if she's tied for closest."
      ]
    },
    {
      "cell_type": "code",
      "execution_count": 81,
      "metadata": {
        "id": "4WFhgyYjWYcg"
      },
      "outputs": [],
      "source": [
        "alice = 'bathrooom toilet clogged drain mold leaks'\n",
        "bob = 'air-conditioning AC heating cooling vents air'\n",
        "chun = 'appliances dishwashers washer drier repair'"
      ]
    },
    {
      "cell_type": "code",
      "execution_count": 3,
      "metadata": {
        "colab": {
          "base_uri": "https://localhost:8080/",
          "height": 0
        },
        "id": "u2GjK-yhWYch",
        "outputId": "939631bf-cfc0-4267-dbaf-7221c4e686c8"
      },
      "outputs": [
        {
          "output_type": "stream",
          "name": "stdout",
          "text": [
            "[==================================================] 100.0% 1662.8/1662.8MB downloaded\n"
          ]
        }
      ],
      "source": [
        "# May need to !pip install gensim if working locally\n",
        "import gensim\n",
        "import gensim.downloader as api\n",
        "\n",
        "wv = api.load('word2vec-google-news-300')"
      ]
    },
    {
      "cell_type": "code",
      "execution_count": 86,
      "metadata": {
        "colab": {
          "base_uri": "https://localhost:8080/",
          "height": 0
        },
        "id": "hW-u0UVAWYci",
        "outputId": "fc23aa9e-539e-4406-916c-fe762938f82b"
      },
      "outputs": [
        {
          "output_type": "stream",
          "name": "stderr",
          "text": [
            "[nltk_data] Downloading package punkt to /root/nltk_data...\n",
            "[nltk_data]   Package punkt is already up-to-date!\n",
            "[nltk_data] Downloading package stopwords to /root/nltk_data...\n",
            "[nltk_data]   Package stopwords is already up-to-date!\n"
          ]
        }
      ],
      "source": [
        "# TODO:  get relevant functions from lecture notes\n",
        "import pandas as pd\n",
        "import nltk\n",
        "from nltk.corpus import stopwords\n",
        "from nltk.tokenize import word_tokenize\n",
        "nltk.download('punkt') # Name means 'period' in German; from Kiss and Strunk 2006\n",
        "nltk.download('stopwords')\n",
        "\n",
        "alice_split = alice.split()\n",
        "bob_split = bob.split()\n",
        "chun_split = chun.split()\n",
        "\n",
        "embedding_vec_alice = np.mean([wv[word] for word in alice_split if word in wv], axis=0) #Axis = 0 means average across rows\n",
        "embedding_vec_bob = np.mean([wv[word] for word in bob_split if word in wv], axis =0)\n",
        "embedding_vec_chun = np.mean([wv[word] for word in chun_split if word in wv], axis =0)\n",
        "\n",
        "classify_list = [embedding_vec_alice, embedding_vec_bob, embedding_vec_chun]\n",
        "contact = ['alice@hhh.com', 'bob@hhh.com', 'chun@hhh.com']\n",
        "\n",
        "\n",
        "\n",
        "def find_cosine(vec1, vec2):\n",
        "  unit_vec1 = vec1/np.linalg.norm(vec1)\n",
        "  unit_vec2 = vec2/np.linalg.norm(vec2)\n",
        "  return np.dot(unit_vec1,unit_vec2)\n",
        "\n",
        "stop_words = set(stopwords.words('english'))\n",
        "\n",
        "def forward(text, wv):\n",
        "  lst = word_tokenize(text.lower())\n",
        "  filtered_text = [word for word in lst if word not in stop_words]\n",
        "  text_embed = [wv[word] for word in filtered_text if word in wv]\n",
        "  array_embed = np.mean(np.array(text_embed), axis=0)\n",
        "  print(len(array_embed))\n",
        "  cosine_sim_lst = []\n",
        "  for embedding, name_vec in zip(classify_list, contact):\n",
        "    cosine_similarity = find_cosine(embedding, array_embed)\n",
        "    cosine_sim_lst.append((cosine_similarity, name_vec))\n",
        "  cosine_sim_lst.sort(reverse=True)\n",
        "  return cosine_sim_lst[0][1]"
      ]
    },
    {
      "cell_type": "code",
      "execution_count": 87,
      "metadata": {
        "colab": {
          "base_uri": "https://localhost:8080/",
          "height": 53
        },
        "id": "vbbTizC8WYci",
        "outputId": "2936ea84-3791-4a2f-ecde-45987ef6236e"
      },
      "outputs": [
        {
          "output_type": "stream",
          "name": "stdout",
          "text": [
            "300\n"
          ]
        },
        {
          "output_type": "execute_result",
          "data": {
            "text/plain": [
              "'alice@hhh.com'"
            ],
            "application/vnd.google.colaboratory.intrinsic+json": {
              "type": "string"
            }
          },
          "metadata": {},
          "execution_count": 87
        }
      ],
      "source": [
        "# Test1: Expect 'alice@hhh.com'\n",
        "test1 = \"Tried a plunger and no luck.  Help!\"\n",
        "\n",
        "forward(test1, wv)"
      ]
    },
    {
      "cell_type": "code",
      "execution_count": 88,
      "metadata": {
        "colab": {
          "base_uri": "https://localhost:8080/",
          "height": 53
        },
        "id": "XanazgxOWYci",
        "outputId": "161d8183-cdb4-4d18-969c-edc3e63437f5"
      },
      "outputs": [
        {
          "output_type": "stream",
          "name": "stdout",
          "text": [
            "300\n"
          ]
        },
        {
          "output_type": "execute_result",
          "data": {
            "text/plain": [
              "'bob@hhh.com'"
            ],
            "application/vnd.google.colaboratory.intrinsic+json": {
              "type": "string"
            }
          },
          "metadata": {},
          "execution_count": 88
        }
      ],
      "source": [
        "#Test2: Expect 'bob@hhh.com'\n",
        "test2 = \"So hot - I think the thermostat is busted...\"\n",
        "forward(test2, wv)"
      ]
    },
    {
      "cell_type": "code",
      "execution_count": 89,
      "metadata": {
        "colab": {
          "base_uri": "https://localhost:8080/",
          "height": 53
        },
        "id": "R7FFSEifWYcj",
        "outputId": "4dd01c72-2cc6-477a-984b-803b038c78fb"
      },
      "outputs": [
        {
          "output_type": "stream",
          "name": "stdout",
          "text": [
            "300\n"
          ]
        },
        {
          "output_type": "execute_result",
          "data": {
            "text/plain": [
              "'chun@hhh.com'"
            ],
            "application/vnd.google.colaboratory.intrinsic+json": {
              "type": "string"
            }
          },
          "metadata": {},
          "execution_count": 89
        }
      ],
      "source": [
        "#Test3: Expect 'chun@hhh.com'\n",
        "test3 = \"I need to fix my dishwasher - suds flood the kitchen every time I run it\"\n",
        "forward(test3, wv)"
      ]
    },
    {
      "cell_type": "markdown",
      "metadata": {
        "id": "MsMXB2_dWYcj"
      },
      "source": [
        "# Problem 2:  Price of Milk Interpolation (7 points)"
      ]
    },
    {
      "cell_type": "markdown",
      "metadata": {
        "id": "QQ_G2UNmWYck"
      },
      "source": [
        "The following y values represent the average price of a gallon of milk for each year. (Source: https://www.usinflationcalculator.com/inflation/milk-prices-adjusted-for-inflation/) Perform linear regression with scikit-learn's LinearRegression class.  Then plot the points alongside the linear fit.  And finally, make a prediction for 2023 with this linear model."
      ]
    },
    {
      "cell_type": "code",
      "execution_count": 110,
      "metadata": {
        "id": "njrtmjcHWYck"
      },
      "outputs": [],
      "source": [
        "import numpy as np\n",
        "x = np.linspace(1995, 2021, 27)\n",
        "y = [2.48, 2.62, 2.61, 2.70, 2.84,\n",
        "     2.78, 2.88, 2.76, 2.76, 3.16, 3.19, 3.08, 3.50, 3.80, 3.11,\n",
        "     3.26, 3.57, 3.49, 3.46, 3.69, 3.42, 3.20, 3.23, 2.90, 3.04,\n",
        "     3.32, 3.55]"
      ]
    },
    {
      "cell_type": "code",
      "source": [
        "print(len(x))\n",
        "print(x)\n",
        "print(type(x))\n",
        "\n",
        "len(y)"
      ],
      "metadata": {
        "colab": {
          "base_uri": "https://localhost:8080/",
          "height": 0
        },
        "id": "3kHK3gePDdkT",
        "outputId": "f3a257ed-e77d-49fa-e419-1be6495831c0"
      },
      "execution_count": 114,
      "outputs": [
        {
          "output_type": "stream",
          "name": "stdout",
          "text": [
            "27\n",
            "[1995. 1996. 1997. 1998. 1999. 2000. 2001. 2002. 2003. 2004. 2005. 2006.\n",
            " 2007. 2008. 2009. 2010. 2011. 2012. 2013. 2014. 2015. 2016. 2017. 2018.\n",
            " 2019. 2020. 2021.]\n",
            "<class 'numpy.ndarray'>\n"
          ]
        },
        {
          "output_type": "execute_result",
          "data": {
            "text/plain": [
              "27"
            ]
          },
          "metadata": {},
          "execution_count": 114
        }
      ]
    },
    {
      "cell_type": "code",
      "execution_count": 104,
      "metadata": {
        "colab": {
          "base_uri": "https://localhost:8080/",
          "height": 472
        },
        "id": "g503hoDMWYck",
        "outputId": "d75ed9f6-c0ba-490a-bf98-183b46c65b66"
      },
      "outputs": [
        {
          "output_type": "display_data",
          "data": {
            "text/plain": [
              "<Figure size 640x480 with 1 Axes>"
            ],
            "image/png": "[encoded data removed]"
          },
          "metadata": {}
        }
      ],
      "source": [
        "# TODO linear regression and plot\n",
        "\n",
        "from sklearn.linear_model import LinearRegression\n",
        "import matplotlib.pyplot as plt\n",
        "\n",
        "reg = LinearRegression()\n",
        "x = x.reshape(-1, 1)\n",
        "reg.fit(x, y)\n",
        "y_pred_line = reg.predict(x)\n",
        "\n",
        "\n",
        "plt.scatter(x, y, color = \"blue\")\n",
        "plt.plot(x, y_pred_line, color = \"red\")\n",
        "plt.title(\"Average price of a gallon of milk from 1995 to 2021\")\n",
        "plt.xlabel(\"Years (1995-2021)\")\n",
        "plt.ylabel(\"Average price of a gallon of milk\")\n",
        "plt.show()\n"
      ]
    },
    {
      "cell_type": "code",
      "execution_count": 125,
      "metadata": {
        "colab": {
          "base_uri": "https://localhost:8080/",
          "height": 0
        },
        "id": "6nstqegpWYck",
        "outputId": "744ab241-9832-47e2-ecd8-3b005994d529"
      },
      "outputs": [
        {
          "output_type": "stream",
          "name": "stdout",
          "text": [
            " The predicted average price of a gallon of milk in 2023 is around $3.59. \n"
          ]
        }
      ],
      "source": [
        "# TODO: Prediction for 2023\n",
        "x_pred = np.array([2023])\n",
        "x_pred = x_pred.reshape(-1, 1)\n",
        "y_pred = reg.predict(x_pred)\n",
        "y_pred = y_pred.item()\n",
        "print(f' The predicted average price of a gallon of milk in 2023 is around ${y_pred:.2f}. ')"
      ]
    },
    {
      "cell_type": "markdown",
      "metadata": {
        "id": "anY72C3SWYcl"
      },
      "source": [
        "# Problem 3:  Cumulative problems (35 points)"
      ]
    },
    {
      "cell_type": "markdown",
      "metadata": {
        "id": "24-tOZ0TWYcl"
      },
      "source": [
        "a (20 points):  Suppose we have a matrix where the $m$ rows represent different observations and the $n$ columns represent different features of the same example.  We also have an $(m-v)$-element 1D numpy array of labels for the training examples, 0 or 1, and a $v$ element numpy array with labels for the validation examples (which all come after the training examples in the feature matrix).  We'd like to train a bunch of decision trees, checking what happens when we train with all possible combinations of the following constructor parameters:  max_depth (2, 10, or None), min_samples_leaf (1 or 2), and max_features ('sqrt' or None).  The best tree is the one with the highest accuracy on the validation set.  Write a function find_best_params() that tries all combinations of the features and values described above.  Return the validation accuracy of the best tree, the max_depth of the best tree, the min_samples_leaf of the best tree, and the max_features of the best tree."
      ]
    },
    {
      "cell_type": "code",
      "execution_count": 174,
      "metadata": {
        "id": "YEKACKIvWYcl"
      },
      "outputs": [],
      "source": [
        "import numpy as np\n",
        "\n",
        "# Small example for basic testing - things should run\n",
        "examples_example = np.array([[1, 2, 3], [-1, -2, -3], [3, 4, -2], [-6, 4, 1], [1, 2, -4], [1,1,1]])\n",
        "train_labels_example = np.array([1, 0, 1, 0])\n",
        "validation_labels_example = ([0, 1])\n",
        "\n",
        "\n",
        "# Bigger example where params may matter\n",
        "from sklearn.datasets import make_classification\n",
        "big_examples, big_labels = make_classification(n_samples=200, n_features=20, n_classes=2, shuffle=True, random_state=0)\n",
        "big_labels_train = big_labels[:150]\n",
        "big_labels_valid = big_labels[150:]"
      ]
    },
    {
      "cell_type": "code",
      "source": [],
      "metadata": {
        "colab": {
          "base_uri": "https://localhost:8080/",
          "height": 0
        },
        "id": "14A79eTGII9W",
        "outputId": "de8c1cac-2664-4aa6-8d20-591c4485f591"
      },
      "execution_count": 138,
      "outputs": [
        {
          "output_type": "execute_result",
          "data": {
            "text/plain": [
              "(4, 3)"
            ]
          },
          "metadata": {},
          "execution_count": 138
        }
      ]
    },
    {
      "cell_type": "code",
      "execution_count": 179,
      "metadata": {
        "id": "YB3uQLUPWYcl"
      },
      "outputs": [],
      "source": [
        "\n",
        "# TODO: find_best_params()\n",
        "\n",
        "from sklearn.tree import DecisionTreeClassifier\n",
        "\n",
        "def find_best_params(x, y_train, y_valid):\n",
        "  m = len(y_train)\n",
        "  x_train = x[:m]\n",
        "  x_test = x[m:]\n",
        "  y_train = y_train.reshape(-1,1)\n",
        "  max_depth = [2, 10, None]\n",
        "  min_samples_leaf = [1, 2]\n",
        "  max_features = ['sqrt', None]\n",
        "  accuracy = 0\n",
        "  for depth in max_depth:\n",
        "    for leaf in min_samples_leaf:\n",
        "      for features in max_features:\n",
        "        classifier = DecisionTreeClassifier(max_depth=depth,\n",
        "                                            min_samples_leaf=leaf,\n",
        "                                            max_features=features,\n",
        "                                            random_state=0)\n",
        "        classifier.fit(x_train, y_train)\n",
        "        y_pred = classifier.predict(x_test)\n",
        "        score = classifier.score(x_test, y_valid)\n",
        "        if score > accuracy:\n",
        "          accuracy = score\n",
        "          best_params = {\n",
        "              'max_depth': depth,\n",
        "              'min_samples_leaf': leaf,\n",
        "              'max_features': features,\n",
        "          }\n",
        "  return accuracy, best_params"
      ]
    },
    {
      "cell_type": "code",
      "execution_count": 180,
      "metadata": {
        "colab": {
          "base_uri": "https://localhost:8080/",
          "height": 0
        },
        "id": "deA9jjxcWYcl",
        "outputId": "6e7186e7-ce2e-4285-940a-65d4c3a6f84a"
      },
      "outputs": [
        {
          "output_type": "execute_result",
          "data": {
            "text/plain": [
              "(0.5, {'max_depth': 2, 'min_samples_leaf': 1, 'max_features': None})"
            ]
          },
          "metadata": {},
          "execution_count": 180
        }
      ],
      "source": [
        "\n",
        "# With random_state = 0 passed to DecisionTreeClassifier,\n",
        "# accuracy 0.5 - other parameter values depend on order of evaluation\n",
        "\n",
        "find_best_params(examples_example, train_labels_example, validation_labels_example)"
      ]
    },
    {
      "cell_type": "code",
      "execution_count": 181,
      "metadata": {
        "colab": {
          "base_uri": "https://localhost:8080/",
          "height": 0
        },
        "id": "E2JQliv7WYcm",
        "outputId": "212e094e-9750-4d22-fd08-7ac9b42d7cf0"
      },
      "outputs": [
        {
          "output_type": "execute_result",
          "data": {
            "text/plain": [
              "(0.9, {'max_depth': 2, 'min_samples_leaf': 1, 'max_features': None})"
            ]
          },
          "metadata": {},
          "execution_count": 181
        }
      ],
      "source": [
        "# With random_state = 0 passed to DecisionTreeClassifier,\n",
        "# Accuracy of 0.9, max_depth varies, min_samples_leaf 1, max_features None\n",
        "find_best_params(big_examples, big_labels_train, big_labels_valid)"
      ]
    },
    {
      "cell_type": "markdown",
      "metadata": {
        "id": "8Z4RUZ4hWYcm"
      },
      "source": [
        "b (15 points):  You are analyzing a long document that happens to mention who reports to who in an organization - for example, \"Mary reports to Alice\".  Write a function print_reports() that analyzes such a string, pulling out all such relationships.  (You can assume the document literally says \"X reports to Y\" with X and Y being the names.). Then print for each person the number of \"direct reports\" that person has, that is, the number of people reporting to them.  (See the tests for examples).  Return the total number of people in the organization."
      ]
    },
    {
      "cell_type": "code",
      "execution_count": 212,
      "metadata": {
        "id": "th1WM6vgWYcm"
      },
      "outputs": [],
      "source": [
        "# TODO print_reports()\n",
        "\n",
        "import re\n",
        "from collections import defaultdict\n",
        "\n",
        "\n",
        "def print_reports(text):\n",
        "    pattern = r'(\\w+) reports to (\\w+)'\n",
        "    matches = re.findall(pattern, text)\n",
        "\n",
        "    direct_reports = defaultdict(int)\n",
        "    people = set()\n",
        "\n",
        "    for person, manager in matches:\n",
        "        direct_reports[manager] += 1\n",
        "        people.add(person)\n",
        "        people.add(manager)\n",
        "\n",
        "    for person in people:\n",
        "        if person not in direct_reports:\n",
        "            direct_reports[person] = 0\n",
        "\n",
        "    for person in sorted(people):\n",
        "        print(f\"{person} {direct_reports[person]}\")\n",
        "    return len(people)"
      ]
    },
    {
      "cell_type": "code",
      "source": [
        "set(['James', 'Keynes', 'Robert', 'James'])"
      ],
      "metadata": {
        "colab": {
          "base_uri": "https://localhost:8080/",
          "height": 0
        },
        "id": "ycprombTe9jC",
        "outputId": "be0df237-f820-44fc-ae64-06a4b028a425"
      },
      "execution_count": 213,
      "outputs": [
        {
          "output_type": "execute_result",
          "data": {
            "text/plain": [
              "{'James', 'Keynes', 'Robert'}"
            ]
          },
          "metadata": {},
          "execution_count": 213
        }
      ]
    },
    {
      "cell_type": "code",
      "execution_count": 214,
      "metadata": {
        "colab": {
          "base_uri": "https://localhost:8080/",
          "height": 0
        },
        "id": "52C-ONbUWYcm",
        "outputId": "7bcd55f8-5aeb-431d-b300-8379f41febf9"
      },
      "outputs": [
        {
          "output_type": "stream",
          "name": "stdout",
          "text": [
            "Alice 2\n",
            "Bob 1\n",
            "Mary 0\n",
            "Medhavi 0\n",
            "Sally 2\n",
            "Yilan 0\n"
          ]
        },
        {
          "output_type": "execute_result",
          "data": {
            "text/plain": [
              "6"
            ]
          },
          "metadata": {},
          "execution_count": 214
        }
      ],
      "source": [
        "\n",
        "text = \"Mary reports to Sally, Sally reports to Bob, Bob reports to Alice, \\\n",
        "        but also Yilan reports to Sally, and Medhavi reports to Alice\"\n",
        "# Expect Sally 2, Mary 0, Bob 1, Yilan 0, Medhavi 0, Alice 2\n",
        "# (in no particular order) and return 6\n",
        "print_reports(text)"
      ]
    },
    {
      "cell_type": "code",
      "execution_count": 215,
      "metadata": {
        "colab": {
          "base_uri": "https://localhost:8080/",
          "height": 0
        },
        "id": "-C54dCnsWYcm",
        "outputId": "570b9818-22b8-4601-d653-ffc85403b3d5"
      },
      "outputs": [
        {
          "output_type": "execute_result",
          "data": {
            "text/plain": [
              "0"
            ]
          },
          "metadata": {},
          "execution_count": 215
        }
      ],
      "source": [
        "# Don't crash on this\n",
        "text = \"This document has no information\"\n",
        "print_reports(text)"
      ]
    },
    {
      "cell_type": "code",
      "execution_count": 216,
      "metadata": {
        "colab": {
          "base_uri": "https://localhost:8080/",
          "height": 0
        },
        "id": "K6JkxXHiWYcm",
        "outputId": "4d1b0a57-852f-4266-ad4f-0d54a880fe04"
      },
      "outputs": [
        {
          "output_type": "stream",
          "name": "stdout",
          "text": [
            "Alice 4\n",
            "Bob 0\n",
            "Clive 0\n",
            "Dominique 0\n",
            "Jason 0\n"
          ]
        },
        {
          "output_type": "execute_result",
          "data": {
            "text/plain": [
              "5"
            ]
          },
          "metadata": {},
          "execution_count": 216
        }
      ],
      "source": [
        "# Expect Alice 4, all others 0, total people 5\n",
        "text = \"Bob reports to Alice and Dominique reports to Alice, \\\n",
        "        not to mention Jason reports to Alice and Clive reports to Alice\"\n",
        "print_reports(text)"
      ]
    },
    {
      "cell_type": "markdown",
      "metadata": {
        "id": "uA6N-GRHWYcn"
      },
      "source": [
        "# Problem 4:  Miniproject (20 points + up to 15 points extra credit)\n",
        "\n",
        "This problem has an open-ended component.  You can get full credit by doing the problem set with the *suggested* data set (spotify.csv), but you can get **extra credit** by doing it with a different dataset that you have found on the Internet (for example, on Kaggle.com) and/or doing more analysis than required.  You also have the opportunity to get **additional extra credit applied to your final exam grade** if you are selected to give a lightning talk on Dec 6 about what you found with this project.  The lightning talk is only possible if you chose your own dataset."
      ]
    },
    {
      "cell_type": "markdown",
      "metadata": {
        "id": "qq0nQGAOWYcn"
      },
      "source": [
        "The suggested dataset, guaranteed to have minimal data cleaning but not eligible for extra credit, is the file spotify.csv, which originally came from https://www.kaggle.com/datasets/maharshipandya/-spotify-tracks-dataset but which you can now find on Blackboard where you found this assignment.  (For a description of what its features mean, see https://developer.spotify.com/documentation/web-api/reference/get-audio-features.)  We'll assume in the instructions that if you're using that dataset, you're trying to predict genre from the other numerical features.\n",
        "\n",
        "If you choose your own dataset, pick one where you think it would be interesting but feasible to predict some variable in the dataset from the others.  If it needs a lot of \"cleaning\" to be usable, you will get extra credit, but you could also consider looking at a few datasets and picking one that seems somewhat close to directly usable.  (You do *not* need high accuracy in your classifier to get full or extra credit; problems like predicting stock prices from their histories are inherently harder than classifying country from latitude and longitude, for example.)"
      ]
    },
    {
      "cell_type": "markdown",
      "metadata": {
        "id": "r9EV453TWYcn"
      },
      "source": [
        "a 5 points + 7 points EC) Load the dataset as a DataFrame and prepare it for machine learning.  In the spotify.csv case, we suggest using a sklearn.preprocessing.LabelEncoder to turn the target column into numerical classes; see examples in the documentation (https://scikit-learn.org/stable/modules/generated/sklearn.preprocessing.LabelEncoder.html).  You should also fix any columns that look basically numerical, but for some reason were processed as strings instead; but the suggested dataset doesn't have any of these.\n",
        "\n",
        "If you are cleaning a novel dataset, you may get extra credit here if it takes more work than the spotify dataset to clean.\n",
        "\n",
        "Suggested dataset EC:  For the suggested dataset, you will get better results if you limit the target genres to four easily distinguished categories, such as 'acoustic', 'dance', 'grunge', and 'show-tunes'.  You can use .unique() to see all the categories available in this column.  Choosing your own 4 categories from unique() is worth 1 point of extra credit.  Limiting the classes like this is otherwise optional."
      ]
    },
    {
      "cell_type": "code",
      "execution_count": 218,
      "metadata": {
        "colab": {
          "base_uri": "https://localhost:8080/",
          "height": 73
        },
        "id": "5zrMg1auWYcn",
        "outputId": "c60a81e5-e16d-4a37-f19c-a7982989946d"
      },
      "outputs": [
        {
          "output_type": "display_data",
          "data": {
            "text/plain": [
              "<IPython.core.display.HTML object>"
            ],
            "text/html": [
              "\n",
              "     <input type=\"file\" id=\"files-0de2a60e-6aad-45d8-a71b-e4e2d1a0abcb\" name=\"files[]\" multiple disabled\n",
              "        style=\"border:none\" />\n",
              "     <output id=\"result-0de2a60e-6aad-45d8-a71b-e4e2d1a0abcb\">\n",
              "      Upload widget is only available when the cell has been executed in the\n",
              "      current browser session. Please rerun this cell to enable.\n",
              "      </output>\n",
              "      <script>// Copyright 2017 Google LLC\n",
              "//\n",
              "// Licensed under the Apache License, Version 2.0 (the \"License\");\n",
              "// you may not use this file except in compliance with the License.\n",
              "// You may obtain a copy of the License at\n",
              "//\n",
              "//      http://www.apache.org/licenses/LICENSE-2.0\n",
              "//\n",
              "// Unless required by applicable law or agreed to in writing, software\n",
              "// distributed under the License is distributed on an \"AS IS\" BASIS,\n",
              "// WITHOUT WARRANTIES OR CONDITIONS OF ANY KIND, either express or implied.\n",
              "// See the License for the specific language governing permissions and\n",
              "// limitations under the License.\n",
              "\n",
              "/**\n",
              " * @fileoverview Helpers for google.colab Python module.\n",
              " */\n",
              "(function(scope) {\n",
              "function span(text, styleAttributes = {}) {\n",
              "  const element = document.createElement('span');\n",
              "  element.textContent = text;\n",
              "  for (const key of Object.keys(styleAttributes)) {\n",
              "    element.style[key] = styleAttributes[key];\n",
              "  }\n",
              "  return element;\n",
              "}\n",
              "\n",
              "// Max number of bytes which will be uploaded at a time.\n",
              "const MAX_PAYLOAD_SIZE = 100 * 1024;\n",
              "\n",
              "function _uploadFiles(inputId, outputId) {\n",
              "  const steps = uploadFilesStep(inputId, outputId);\n",
              "  const outputElement = document.getElementById(outputId);\n",
              "  // Cache steps on the outputElement to make it available for the next call\n",
              "  // to uploadFilesContinue from Python.\n",
              "  outputElement.steps = steps;\n",
              "\n",
              "  return _uploadFilesContinue(outputId);\n",
              "}\n",
              "\n",
              "// This is roughly an async generator (not supported in the browser yet),\n",
              "// where there are multiple asynchronous steps and the Python side is going\n",
              "// to poll for completion of each step.\n",
              "// This uses a Promise to block the python side on completion of each step,\n",
              "// then passes the result of the previous step as the input to the next step.\n",
              "function _uploadFilesContinue(outputId) {\n",
              "  const outputElement = document.getElementById(outputId);\n",
              "  const steps = outputElement.steps;\n",
              "\n",
              "  const next = steps.next(outputElement.lastPromiseValue);\n",
              "  return Promise.resolve(next.value.promise).then((value) => {\n",
              "    // Cache the last promise value to make it available to the next\n",
              "    // step of the generator.\n",
              "    outputElement.lastPromiseValue = value;\n",
              "    return next.value.response;\n",
              "  });\n",
              "}\n",
              "\n",
              "/**\n",
              " * Generator function which is called between each async step of the upload\n",
              " * process.\n",
              " * @param {string} inputId Element ID of the input file picker element.\n",
              " * @param {string} outputId Element ID of the output display.\n",
              " * @return {!Iterable<!Object>} Iterable of next steps.\n",
              " */\n",
              "function* uploadFilesStep(inputId, outputId) {\n",
              "  const inputElement = document.getElementById(inputId);\n",
              "  inputElement.disabled = false;\n",
              "\n",
              "  const outputElement = document.getElementById(outputId);\n",
              "  outputElement.innerHTML = '';\n",
              "\n",
              "  const pickedPromise = new Promise((resolve) => {\n",
              "    inputElement.addEventListener('change', (e) => {\n",
              "      resolve(e.target.files);\n",
              "    });\n",
              "  });\n",
              "\n",
              "  const cancel = document.createElement('button');\n",
              "  inputElement.parentElement.appendChild(cancel);\n",
              "  cancel.textContent = 'Cancel upload';\n",
              "  const cancelPromise = new Promise((resolve) => {\n",
              "    cancel.onclick = () => {\n",
              "      resolve(null);\n",
              "    };\n",
              "  });\n",
              "\n",
              "  // Wait for the user to pick the files.\n",
              "  const files = yield {\n",
              "    promise: Promise.race([pickedPromise, cancelPromise]),\n",
              "    response: {\n",
              "      action: 'starting',\n",
              "    }\n",
              "  };\n",
              "\n",
              "  cancel.remove();\n",
              "\n",
              "  // Disable the input element since further picks are not allowed.\n",
              "  inputElement.disabled = true;\n",
              "\n",
              "  if (!files) {\n",
              "    return {\n",
              "      response: {\n",
              "        action: 'complete',\n",
              "      }\n",
              "    };\n",
              "  }\n",
              "\n",
              "  for (const file of files) {\n",
              "    const li = document.createElement('li');\n",
              "    li.append(span(file.name, {fontWeight: 'bold'}));\n",
              "    li.append(span(\n",
              "        `(${file.type || 'n/a'}) - ${file.size} bytes, ` +\n",
              "        `last modified: ${\n",
              "            file.lastModifiedDate ? file.lastModifiedDate.toLocaleDateString() :\n",
              "                                    'n/a'} - `));\n",
              "    const percent = span('0% done');\n",
              "    li.appendChild(percent);\n",
              "\n",
              "    outputElement.appendChild(li);\n",
              "\n",
              "    const fileDataPromise = new Promise((resolve) => {\n",
              "      const reader = new FileReader();\n",
              "      reader.onload = (e) => {\n",
              "        resolve(e.target.result);\n",
              "      };\n",
              "      reader.readAsArrayBuffer(file);\n",
              "    });\n",
              "    // Wait for the data to be ready.\n",
              "    let fileData = yield {\n",
              "      promise: fileDataPromise,\n",
              "      response: {\n",
              "        action: 'continue',\n",
              "      }\n",
              "    };\n",
              "\n",
              "    // Use a chunked sending to avoid message size limits. See b/62115660.\n",
              "    let position = 0;\n",
              "    do {\n",
              "      const length = Math.min(fileData.byteLength - position, MAX_PAYLOAD_SIZE);\n",
              "      const chunk = new Uint8Array(fileData, position, length);\n",
              "      position += length;\n",
              "\n",
              "      const base64 = btoa(String.fromCharCode.apply(null, chunk));\n",
              "      yield {\n",
              "        response: {\n",
              "          action: 'append',\n",
              "          file: file.name,\n",
              "          data: base64,\n",
              "        },\n",
              "      };\n",
              "\n",
              "      let percentDone = fileData.byteLength === 0 ?\n",
              "          100 :\n",
              "          Math.round((position / fileData.byteLength) * 100);\n",
              "      percent.textContent = `${percentDone}% done`;\n",
              "\n",
              "    } while (position < fileData.byteLength);\n",
              "  }\n",
              "\n",
              "  // All done.\n",
              "  yield {\n",
              "    response: {\n",
              "      action: 'complete',\n",
              "    }\n",
              "  };\n",
              "}\n",
              "\n",
              "scope.google = scope.google || {};\n",
              "scope.google.colab = scope.google.colab || {};\n",
              "scope.google.colab._files = {\n",
              "  _uploadFiles,\n",
              "  _uploadFilesContinue,\n",
              "};\n",
              "})(self);\n",
              "</script> "
            ]
          },
          "metadata": {}
        },
        {
          "output_type": "stream",
          "name": "stdout",
          "text": [
            "Saving fetal_health.csv to fetal_health.csv\n"
          ]
        }
      ],
      "source": [
        "# TODO (may want to break this into several code boxes)\n",
        "\n",
        "from google.colab import files\n",
        "import pandas as pd\n",
        "\n",
        "\n",
        "upload = files.upload()\n"
      ]
    },
    {
      "cell_type": "code",
      "source": [
        "df = pd.read_csv(\"fetal_health.csv\")\n",
        "df.head()"
      ],
      "metadata": {
        "colab": {
          "base_uri": "https://localhost:8080/",
          "height": 272
        },
        "id": "e9W53ps8gvvQ",
        "outputId": "6f51c9a5-0083-4461-e484-d1e74d2cfc52"
      },
      "execution_count": 219,
      "outputs": [
        {
          "output_type": "execute_result",
          "data": {
            "text/plain": [
              "   baseline value  accelerations  fetal_movement  uterine_contractions  \\\n",
              "0           120.0          0.000             0.0                 0.000   \n",
              "1           132.0          0.006             0.0                 0.006   \n",
              "2           133.0          0.003             0.0                 0.008   \n",
              "3           134.0          0.003             0.0                 0.008   \n",
              "4           132.0          0.007             0.0                 0.008   \n",
              "\n",
              "   light_decelerations  severe_decelerations  prolongued_decelerations  \\\n",
              "0                0.000                   0.0                       0.0   \n",
              "1                0.003                   0.0                       0.0   \n",
              "2                0.003                   0.0                       0.0   \n",
              "3                0.003                   0.0                       0.0   \n",
              "4                0.000                   0.0                       0.0   \n",
              "\n",
              "   abnormal_short_term_variability  mean_value_of_short_term_variability  \\\n",
              "0                             73.0                                   0.5   \n",
              "1                             17.0                                   2.1   \n",
              "2                             16.0                                   2.1   \n",
              "3                             16.0                                   2.4   \n",
              "4                             16.0                                   2.4   \n",
              "\n",
              "   percentage_of_time_with_abnormal_long_term_variability  ...  histogram_min  \\\n",
              "0                                               43.0       ...           62.0   \n",
              "1                                                0.0       ...           68.0   \n",
              "2                                                0.0       ...           68.0   \n",
              "3                                                0.0       ...           53.0   \n",
              "4                                                0.0       ...           53.0   \n",
              "\n",
              "   histogram_max  histogram_number_of_peaks  histogram_number_of_zeroes  \\\n",
              "0          126.0                        2.0                         0.0   \n",
              "1          198.0                        6.0                         1.0   \n",
              "2          198.0                        5.0                         1.0   \n",
              "3          170.0                       11.0                         0.0   \n",
              "4          170.0                        9.0                         0.0   \n",
              "\n",
              "   histogram_mode  histogram_mean  histogram_median  histogram_variance  \\\n",
              "0           120.0           137.0             121.0                73.0   \n",
              "1           141.0           136.0             140.0                12.0   \n",
              "2           141.0           135.0             138.0                13.0   \n",
              "3           137.0           134.0             137.0                13.0   \n",
              "4           137.0           136.0             138.0                11.0   \n",
              "\n",
              "   histogram_tendency  fetal_health  \n",
              "0                 1.0           2.0  \n",
              "1                 0.0           1.0  \n",
              "2                 0.0           1.0  \n",
              "3                 1.0           1.0  \n",
              "4                 1.0           1.0  \n",
              "\n",
              "[5 rows x 22 columns]"
            ],
            "text/html": [
              "\n",
              "  <div id=\"df-37f81a93-8d15-48ff-981d-b7451a3f146b\" class=\"colab-df-container\">\n",
              "    <div>\n",
              "<style scoped>\n",
              "    .dataframe tbody tr th:only-of-type {\n",
              "        vertical-align: middle;\n",
              "    }\n",
              "\n",
              "    .dataframe tbody tr th {\n",
              "        vertical-align: top;\n",
              "    }\n",
              "\n",
              "    .dataframe thead th {\n",
              "        text-align: right;\n",
              "    }\n",
              "</style>\n",
              "<table border=\"1\" class=\"dataframe\">\n",
              "  <thead>\n",
              "    <tr style=\"text-align: right;\">\n",
              "      <th></th>\n",
              "      <th>baseline value</th>\n",
              "      <th>accelerations</th>\n",
              "      <th>fetal_movement</th>\n",
              "      <th>uterine_contractions</th>\n",
              "      <th>light_decelerations</th>\n",
              "      <th>severe_decelerations</th>\n",
              "      <th>prolongued_decelerations</th>\n",
              "      <th>abnormal_short_term_variability</th>\n",
              "      <th>mean_value_of_short_term_variability</th>\n",
              "      <th>percentage_of_time_with_abnormal_long_term_variability</th>\n",
              "      <th>...</th>\n",
              "      <th>histogram_min</th>\n",
              "      <th>histogram_max</th>\n",
              "      <th>histogram_number_of_peaks</th>\n",
              "      <th>histogram_number_of_zeroes</th>\n",
              "      <th>histogram_mode</th>\n",
              "      <th>histogram_mean</th>\n",
              "      <th>histogram_median</th>\n",
              "      <th>histogram_variance</th>\n",
              "      <th>histogram_tendency</th>\n",
              "      <th>fetal_health</th>\n",
              "    </tr>\n",
              "  </thead>\n",
              "  <tbody>\n",
              "    <tr>\n",
              "      <th>0</th>\n",
              "      <td>120.0</td>\n",
              "      <td>0.000</td>\n",
              "      <td>0.0</td>\n",
              "      <td>0.000</td>\n",
              "      <td>0.000</td>\n",
              "      <td>0.0</td>\n",
              "      <td>0.0</td>\n",
              "      <td>73.0</td>\n",
              "      <td>0.5</td>\n",
              "      <td>43.0</td>\n",
              "      <td>...</td>\n",
              "      <td>62.0</td>\n",
              "      <td>126.0</td>\n",
              "      <td>2.0</td>\n",
              "      <td>0.0</td>\n",
              "      <td>120.0</td>\n",
              "      <td>137.0</td>\n",
              "      <td>121.0</td>\n",
              "      <td>73.0</td>\n",
              "      <td>1.0</td>\n",
              "      <td>2.0</td>\n",
              "    </tr>\n",
              "    <tr>\n",
              "      <th>1</th>\n",
              "      <td>132.0</td>\n",
              "      <td>0.006</td>\n",
              "      <td>0.0</td>\n",
              "      <td>0.006</td>\n",
              "      <td>0.003</td>\n",
              "      <td>0.0</td>\n",
              "      <td>0.0</td>\n",
              "      <td>17.0</td>\n",
              "      <td>2.1</td>\n",
              "      <td>0.0</td>\n",
              "      <td>...</td>\n",
              "      <td>68.0</td>\n",
              "      <td>198.0</td>\n",
              "      <td>6.0</td>\n",
              "      <td>1.0</td>\n",
              "      <td>141.0</td>\n",
              "      <td>136.0</td>\n",
              "      <td>140.0</td>\n",
              "      <td>12.0</td>\n",
              "      <td>0.0</td>\n",
              "      <td>1.0</td>\n",
              "    </tr>\n",
              "    <tr>\n",
              "      <th>2</th>\n",
              "      <td>133.0</td>\n",
              "      <td>0.003</td>\n",
              "      <td>0.0</td>\n",
              "      <td>0.008</td>\n",
              "      <td>0.003</td>\n",
              "      <td>0.0</td>\n",
              "      <td>0.0</td>\n",
              "      <td>16.0</td>\n",
              "      <td>2.1</td>\n",
              "      <td>0.0</td>\n",
              "      <td>...</td>\n",
              "      <td>68.0</td>\n",
              "      <td>198.0</td>\n",
              "      <td>5.0</td>\n",
              "      <td>1.0</td>\n",
              "      <td>141.0</td>\n",
              "      <td>135.0</td>\n",
              "      <td>138.0</td>\n",
              "      <td>13.0</td>\n",
              "      <td>0.0</td>\n",
              "      <td>1.0</td>\n",
              "    </tr>\n",
              "    <tr>\n",
              "      <th>3</th>\n",
              "      <td>134.0</td>\n",
              "      <td>0.003</td>\n",
              "      <td>0.0</td>\n",
              "      <td>0.008</td>\n",
              "      <td>0.003</td>\n",
              "      <td>0.0</td>\n",
              "      <td>0.0</td>\n",
              "      <td>16.0</td>\n",
              "      <td>2.4</td>\n",
              "      <td>0.0</td>\n",
              "      <td>...</td>\n",
              "      <td>53.0</td>\n",
              "      <td>170.0</td>\n",
              "      <td>11.0</td>\n",
              "      <td>0.0</td>\n",
              "      <td>137.0</td>\n",
              "      <td>134.0</td>\n",
              "      <td>137.0</td>\n",
              "      <td>13.0</td>\n",
              "      <td>1.0</td>\n",
              "      <td>1.0</td>\n",
              "    </tr>\n",
              "    <tr>\n",
              "      <th>4</th>\n",
              "      <td>132.0</td>\n",
              "      <td>0.007</td>\n",
              "      <td>0.0</td>\n",
              "      <td>0.008</td>\n",
              "      <td>0.000</td>\n",
              "      <td>0.0</td>\n",
              "      <td>0.0</td>\n",
              "      <td>16.0</td>\n",
              "      <td>2.4</td>\n",
              "      <td>0.0</td>\n",
              "      <td>...</td>\n",
              "      <td>53.0</td>\n",
              "      <td>170.0</td>\n",
              "      <td>9.0</td>\n",
              "      <td>0.0</td>\n",
              "      <td>137.0</td>\n",
              "      <td>136.0</td>\n",
              "      <td>138.0</td>\n",
              "      <td>11.0</td>\n",
              "      <td>1.0</td>\n",
              "      <td>1.0</td>\n",
              "    </tr>\n",
              "  </tbody>\n",
              "</table>\n",
              "<p>5 rows × 22 columns</p>\n",
              "</div>\n",
              "    <div class=\"colab-df-buttons\">\n",
              "\n",
              "  <div class=\"colab-df-container\">\n",
              "    <button class=\"colab-df-convert\" onclick=\"convertToInteractive('df-37f81a93-8d15-48ff-981d-b7451a3f146b')\"\n",
              "            title=\"Convert this dataframe to an interactive table.\"\n",
              "            style=\"display:none;\">\n",
              "\n",
              "  <svg xmlns=\"http://www.w3.org/2000/svg\" height=\"24px\" viewBox=\"0 -960 960 960\">\n",
              "    <path d=\"M120-120v-720h720v720H120Zm60-500h600v-160H180v160Zm220 220h160v-160H400v160Zm0 220h160v-160H400v160ZM180-400h160v-160H180v160Zm440 0h160v-160H620v160ZM180-180h160v-160H180v160Zm440 0h160v-160H620v160Z\"/>\n",
              "  </svg>\n",
              "    </button>\n",
              "\n",
              "  <style>\n",
              "    .colab-df-container {\n",
              "      display:flex;\n",
              "      gap: 12px;\n",
              "    }\n",
              "\n",
              "    .colab-df-convert {\n",
              "      background-color: #E8F0FE;\n",
              "      border: none;\n",
              "      border-radius: 50%;\n",
              "      cursor: pointer;\n",
              "      display: none;\n",
              "      fill: #1967D2;\n",
              "      height: 32px;\n",
              "      padding: 0 0 0 0;\n",
              "      width: 32px;\n",
              "    }\n",
              "\n",
              "    .colab-df-convert:hover {\n",
              "      background-color: #E2EBFA;\n",
              "      box-shadow: 0px 1px 2px rgba(60, 64, 67, 0.3), 0px 1px 3px 1px rgba(60, 64, 67, 0.15);\n",
              "      fill: #174EA6;\n",
              "    }\n",
              "\n",
              "    .colab-df-buttons div {\n",
              "      margin-bottom: 4px;\n",
              "    }\n",
              "\n",
              "    [theme=dark] .colab-df-convert {\n",
              "      background-color: #3B4455;\n",
              "      fill: #D2E3FC;\n",
              "    }\n",
              "\n",
              "    [theme=dark] .colab-df-convert:hover {\n",
              "      background-color: #434B5C;\n",
              "      box-shadow: 0px 1px 3px 1px rgba(0, 0, 0, 0.15);\n",
              "      filter: drop-shadow(0px 1px 2px rgba(0, 0, 0, 0.3));\n",
              "      fill: #FFFFFF;\n",
              "    }\n",
              "  </style>\n",
              "\n",
              "    <script>\n",
              "      const buttonEl =\n",
              "        document.querySelector('#df-37f81a93-8d15-48ff-981d-b7451a3f146b button.colab-df-convert');\n",
              "      buttonEl.style.display =\n",
              "        google.colab.kernel.accessAllowed ? 'block' : 'none';\n",
              "\n",
              "      async function convertToInteractive(key) {\n",
              "        const element = document.querySelector('#df-37f81a93-8d15-48ff-981d-b7451a3f146b');\n",
              "        const dataTable =\n",
              "          await google.colab.kernel.invokeFunction('convertToInteractive',\n",
              "                                                    [key], {});\n",
              "        if (!dataTable) return;\n",
              "\n",
              "        const docLinkHtml = 'Like what you see? Visit the ' +\n",
              "          '<a target=\"_blank\" href=https://colab.research.google.com/notebooks/data_table.ipynb>data table notebook</a>'\n",
              "          + ' to learn more about interactive tables.';\n",
              "        element.innerHTML = '';\n",
              "        dataTable['output_type'] = 'display_data';\n",
              "        await google.colab.output.renderOutput(dataTable, element);\n",
              "        const docLink = document.createElement('div');\n",
              "        docLink.innerHTML = docLinkHtml;\n",
              "        element.appendChild(docLink);\n",
              "      }\n",
              "    </script>\n",
              "  </div>\n",
              "\n",
              "\n",
              "<div id=\"df-87e8b119-8e5b-428e-83e9-d879b8d3abb8\">\n",
              "  <button class=\"colab-df-quickchart\" onclick=\"quickchart('df-87e8b119-8e5b-428e-83e9-d879b8d3abb8')\"\n",
              "            title=\"Suggest charts\"\n",
              "            style=\"display:none;\">\n",
              "\n",
              "<svg xmlns=\"http://www.w3.org/2000/svg\" height=\"24px\"viewBox=\"0 0 24 24\"\n",
              "     width=\"24px\">\n",
              "    <g>\n",
              "        <path d=\"M19 3H5c-1.1 0-2 .9-2 2v14c0 1.1.9 2 2 2h14c1.1 0 2-.9 2-2V5c0-1.1-.9-2-2-2zM9 17H7v-7h2v7zm4 0h-2V7h2v10zm4 0h-2v-4h2v4z\"/>\n",
              "    </g>\n",
              "</svg>\n",
              "  </button>\n",
              "\n",
              "<style>\n",
              "  .colab-df-quickchart {\n",
              "      --bg-color: #E8F0FE;\n",
              "      --fill-color: #1967D2;\n",
              "      --hover-bg-color: #E2EBFA;\n",
              "      --hover-fill-color: #174EA6;\n",
              "      --disabled-fill-color: #AAA;\n",
              "      --disabled-bg-color: #DDD;\n",
              "  }\n",
              "\n",
              "  [theme=dark] .colab-df-quickchart {\n",
              "      --bg-color: #3B4455;\n",
              "      --fill-color: #D2E3FC;\n",
              "      --hover-bg-color: #434B5C;\n",
              "      --hover-fill-color: #FFFFFF;\n",
              "      --disabled-bg-color: #3B4455;\n",
              "      --disabled-fill-color: #666;\n",
              "  }\n",
              "\n",
              "  .colab-df-quickchart {\n",
              "    background-color: var(--bg-color);\n",
              "    border: none;\n",
              "    border-radius: 50%;\n",
              "    cursor: pointer;\n",
              "    display: none;\n",
              "    fill: var(--fill-color);\n",
              "    height: 32px;\n",
              "    padding: 0;\n",
              "    width: 32px;\n",
              "  }\n",
              "\n",
              "  .colab-df-quickchart:hover {\n",
              "    background-color: var(--hover-bg-color);\n",
              "    box-shadow: 0 1px 2px rgba(60, 64, 67, 0.3), 0 1px 3px 1px rgba(60, 64, 67, 0.15);\n",
              "    fill: var(--button-hover-fill-color);\n",
              "  }\n",
              "\n",
              "  .colab-df-quickchart-complete:disabled,\n",
              "  .colab-df-quickchart-complete:disabled:hover {\n",
              "    background-color: var(--disabled-bg-color);\n",
              "    fill: var(--disabled-fill-color);\n",
              "    box-shadow: none;\n",
              "  }\n",
              "\n",
              "  .colab-df-spinner {\n",
              "    border: 2px solid var(--fill-color);\n",
              "    border-color: transparent;\n",
              "    border-bottom-color: var(--fill-color);\n",
              "    animation:\n",
              "      spin 1s steps(1) infinite;\n",
              "  }\n",
              "\n",
              "  @keyframes spin {\n",
              "    0% {\n",
              "      border-color: transparent;\n",
              "      border-bottom-color: var(--fill-color);\n",
              "      border-left-color: var(--fill-color);\n",
              "    }\n",
              "    20% {\n",
              "      border-color: transparent;\n",
              "      border-left-color: var(--fill-color);\n",
              "      border-top-color: var(--fill-color);\n",
              "    }\n",
              "    30% {\n",
              "      border-color: transparent;\n",
              "      border-left-color: var(--fill-color);\n",
              "      border-top-color: var(--fill-color);\n",
              "      border-right-color: var(--fill-color);\n",
              "    }\n",
              "    40% {\n",
              "      border-color: transparent;\n",
              "      border-right-color: var(--fill-color);\n",
              "      border-top-color: var(--fill-color);\n",
              "    }\n",
              "    60% {\n",
              "      border-color: transparent;\n",
              "      border-right-color: var(--fill-color);\n",
              "    }\n",
              "    80% {\n",
              "      border-color: transparent;\n",
              "      border-right-color: var(--fill-color);\n",
              "      border-bottom-color: var(--fill-color);\n",
              "    }\n",
              "    90% {\n",
              "      border-color: transparent;\n",
              "      border-bottom-color: var(--fill-color);\n",
              "    }\n",
              "  }\n",
              "</style>\n",
              "\n",
              "  <script>\n",
              "    async function quickchart(key) {\n",
              "      const quickchartButtonEl =\n",
              "        document.querySelector('#' + key + ' button');\n",
              "      quickchartButtonEl.disabled = true;  // To prevent multiple clicks.\n",
              "      quickchartButtonEl.classList.add('colab-df-spinner');\n",
              "      try {\n",
              "        const charts = await google.colab.kernel.invokeFunction(\n",
              "            'suggestCharts', [key], {});\n",
              "      } catch (error) {\n",
              "        console.error('Error during call to suggestCharts:', error);\n",
              "      }\n",
              "      quickchartButtonEl.classList.remove('colab-df-spinner');\n",
              "      quickchartButtonEl.classList.add('colab-df-quickchart-complete');\n",
              "    }\n",
              "    (() => {\n",
              "      let quickchartButtonEl =\n",
              "        document.querySelector('#df-87e8b119-8e5b-428e-83e9-d879b8d3abb8 button');\n",
              "      quickchartButtonEl.style.display =\n",
              "        google.colab.kernel.accessAllowed ? 'block' : 'none';\n",
              "    })();\n",
              "  </script>\n",
              "</div>\n",
              "\n",
              "    </div>\n",
              "  </div>\n"
            ],
            "application/vnd.google.colaboratory.intrinsic+json": {
              "type": "dataframe",
              "variable_name": "df"
            }
          },
          "metadata": {},
          "execution_count": 219
        }
      ]
    },
    {
      "cell_type": "code",
      "source": [
        "print(df.dtypes) # All numeric columns\n",
        "print(df.isnull().sum()) # No missing data\n",
        "print(len(df))"
      ],
      "metadata": {
        "colab": {
          "base_uri": "https://localhost:8080/",
          "height": 0
        },
        "id": "bsocvS_Hg7gJ",
        "outputId": "3acd572b-d746-429a-a158-23cc64aa6e69"
      },
      "execution_count": 260,
      "outputs": [
        {
          "output_type": "stream",
          "name": "stdout",
          "text": [
            "baseline value                                            float64\n",
            "accelerations                                             float64\n",
            "fetal_movement                                            float64\n",
            "uterine_contractions                                      float64\n",
            "light_decelerations                                       float64\n",
            "severe_decelerations                                      float64\n",
            "prolongued_decelerations                                  float64\n",
            "abnormal_short_term_variability                           float64\n",
            "mean_value_of_short_term_variability                      float64\n",
            "percentage_of_time_with_abnormal_long_term_variability    float64\n",
            "mean_value_of_long_term_variability                       float64\n",
            "histogram_width                                           float64\n",
            "histogram_min                                             float64\n",
            "histogram_max                                             float64\n",
            "histogram_number_of_peaks                                 float64\n",
            "histogram_number_of_zeroes                                float64\n",
            "histogram_mode                                            float64\n",
            "histogram_mean                                            float64\n",
            "histogram_median                                          float64\n",
            "histogram_variance                                        float64\n",
            "histogram_tendency                                        float64\n",
            "fetal_health                                              float64\n",
            "dtype: object\n",
            "baseline value                                            0\n",
            "accelerations                                             0\n",
            "fetal_movement                                            0\n",
            "uterine_contractions                                      0\n",
            "light_decelerations                                       0\n",
            "severe_decelerations                                      0\n",
            "prolongued_decelerations                                  0\n",
            "abnormal_short_term_variability                           0\n",
            "mean_value_of_short_term_variability                      0\n",
            "percentage_of_time_with_abnormal_long_term_variability    0\n",
            "mean_value_of_long_term_variability                       0\n",
            "histogram_width                                           0\n",
            "histogram_min                                             0\n",
            "histogram_max                                             0\n",
            "histogram_number_of_peaks                                 0\n",
            "histogram_number_of_zeroes                                0\n",
            "histogram_mode                                            0\n",
            "histogram_mean                                            0\n",
            "histogram_median                                          0\n",
            "histogram_variance                                        0\n",
            "histogram_tendency                                        0\n",
            "fetal_health                                              0\n",
            "dtype: int64\n",
            "2126\n"
          ]
        }
      ]
    },
    {
      "cell_type": "code",
      "source": [
        "import re\n",
        "\n",
        "columns_to_drop = []\n",
        "for idx, value in enumerate(df.columns):\n",
        "  pattern = \"histogram_(\\w+)\"\n",
        "  matches = re.findall(pattern, value)\n",
        "  if matches:\n",
        "    print(idx, matches)\n",
        "    columns_to_drop.append(df.columns[idx])\n",
        "\n",
        "new_df = df.drop(columns=columns_to_drop, axis = 1)\n",
        "new_df"
      ],
      "metadata": {
        "colab": {
          "base_uri": "https://localhost:8080/",
          "height": 634
        },
        "id": "2XrvOCJ8jgXP",
        "outputId": "ba86922a-330c-4f84-82c2-ecc0c06eac81"
      },
      "execution_count": 254,
      "outputs": [
        {
          "output_type": "stream",
          "name": "stdout",
          "text": [
            "11 ['width']\n",
            "12 ['min']\n",
            "13 ['max']\n",
            "14 ['number_of_peaks']\n",
            "15 ['number_of_zeroes']\n",
            "16 ['mode']\n",
            "17 ['mean']\n",
            "18 ['median']\n",
            "19 ['variance']\n",
            "20 ['tendency']\n"
          ]
        },
        {
          "output_type": "execute_result",
          "data": {
            "text/plain": [
              "      baseline value  accelerations  fetal_movement  uterine_contractions  \\\n",
              "0              120.0          0.000           0.000                 0.000   \n",
              "1              132.0          0.006           0.000                 0.006   \n",
              "2              133.0          0.003           0.000                 0.008   \n",
              "3              134.0          0.003           0.000                 0.008   \n",
              "4              132.0          0.007           0.000                 0.008   \n",
              "...              ...            ...             ...                   ...   \n",
              "2121           140.0          0.000           0.000                 0.007   \n",
              "2122           140.0          0.001           0.000                 0.007   \n",
              "2123           140.0          0.001           0.000                 0.007   \n",
              "2124           140.0          0.001           0.000                 0.006   \n",
              "2125           142.0          0.002           0.002                 0.008   \n",
              "\n",
              "      light_decelerations  severe_decelerations  prolongued_decelerations  \\\n",
              "0                   0.000                   0.0                       0.0   \n",
              "1                   0.003                   0.0                       0.0   \n",
              "2                   0.003                   0.0                       0.0   \n",
              "3                   0.003                   0.0                       0.0   \n",
              "4                   0.000                   0.0                       0.0   \n",
              "...                   ...                   ...                       ...   \n",
              "2121                0.000                   0.0                       0.0   \n",
              "2122                0.000                   0.0                       0.0   \n",
              "2123                0.000                   0.0                       0.0   \n",
              "2124                0.000                   0.0                       0.0   \n",
              "2125                0.000                   0.0                       0.0   \n",
              "\n",
              "      abnormal_short_term_variability  mean_value_of_short_term_variability  \\\n",
              "0                                73.0                                   0.5   \n",
              "1                                17.0                                   2.1   \n",
              "2                                16.0                                   2.1   \n",
              "3                                16.0                                   2.4   \n",
              "4                                16.0                                   2.4   \n",
              "...                               ...                                   ...   \n",
              "2121                             79.0                                   0.2   \n",
              "2122                             78.0                                   0.4   \n",
              "2123                             79.0                                   0.4   \n",
              "2124                             78.0                                   0.4   \n",
              "2125                             74.0                                   0.4   \n",
              "\n",
              "      percentage_of_time_with_abnormal_long_term_variability  \\\n",
              "0                                                  43.0        \n",
              "1                                                   0.0        \n",
              "2                                                   0.0        \n",
              "3                                                   0.0        \n",
              "4                                                   0.0        \n",
              "...                                                 ...        \n",
              "2121                                               25.0        \n",
              "2122                                               22.0        \n",
              "2123                                               20.0        \n",
              "2124                                               27.0        \n",
              "2125                                               36.0        \n",
              "\n",
              "      mean_value_of_long_term_variability  fetal_health  \n",
              "0                                     2.4           2.0  \n",
              "1                                    10.4           1.0  \n",
              "2                                    13.4           1.0  \n",
              "3                                    23.0           1.0  \n",
              "4                                    19.9           1.0  \n",
              "...                                   ...           ...  \n",
              "2121                                  7.2           2.0  \n",
              "2122                                  7.1           2.0  \n",
              "2123                                  6.1           2.0  \n",
              "2124                                  7.0           2.0  \n",
              "2125                                  5.0           1.0  \n",
              "\n",
              "[2126 rows x 12 columns]"
            ],
            "text/html": [
              "\n",
              "  <div id=\"df-f5a19a1d-b5c5-42ba-8668-9660fe89e4d0\" class=\"colab-df-container\">\n",
              "    <div>\n",
              "<style scoped>\n",
              "    .dataframe tbody tr th:only-of-type {\n",
              "        vertical-align: middle;\n",
              "    }\n",
              "\n",
              "    .dataframe tbody tr th {\n",
              "        vertical-align: top;\n",
              "    }\n",
              "\n",
              "    .dataframe thead th {\n",
              "        text-align: right;\n",
              "    }\n",
              "</style>\n",
              "<table border=\"1\" class=\"dataframe\">\n",
              "  <thead>\n",
              "    <tr style=\"text-align: right;\">\n",
              "      <th></th>\n",
              "      <th>baseline value</th>\n",
              "      <th>accelerations</th>\n",
              "      <th>fetal_movement</th>\n",
              "      <th>uterine_contractions</th>\n",
              "      <th>light_decelerations</th>\n",
              "      <th>severe_decelerations</th>\n",
              "      <th>prolongued_decelerations</th>\n",
              "      <th>abnormal_short_term_variability</th>\n",
              "      <th>mean_value_of_short_term_variability</th>\n",
              "      <th>percentage_of_time_with_abnormal_long_term_variability</th>\n",
              "      <th>mean_value_of_long_term_variability</th>\n",
              "      <th>fetal_health</th>\n",
              "    </tr>\n",
              "  </thead>\n",
              "  <tbody>\n",
              "    <tr>\n",
              "      <th>0</th>\n",
              "      <td>120.0</td>\n",
              "      <td>0.000</td>\n",
              "      <td>0.000</td>\n",
              "      <td>0.000</td>\n",
              "      <td>0.000</td>\n",
              "      <td>0.0</td>\n",
              "      <td>0.0</td>\n",
              "      <td>73.0</td>\n",
              "      <td>0.5</td>\n",
              "      <td>43.0</td>\n",
              "      <td>2.4</td>\n",
              "      <td>2.0</td>\n",
              "    </tr>\n",
              "    <tr>\n",
              "      <th>1</th>\n",
              "      <td>132.0</td>\n",
              "      <td>0.006</td>\n",
              "      <td>0.000</td>\n",
              "      <td>0.006</td>\n",
              "      <td>0.003</td>\n",
              "      <td>0.0</td>\n",
              "      <td>0.0</td>\n",
              "      <td>17.0</td>\n",
              "      <td>2.1</td>\n",
              "      <td>0.0</td>\n",
              "      <td>10.4</td>\n",
              "      <td>1.0</td>\n",
              "    </tr>\n",
              "    <tr>\n",
              "      <th>2</th>\n",
              "      <td>133.0</td>\n",
              "      <td>0.003</td>\n",
              "      <td>0.000</td>\n",
              "      <td>0.008</td>\n",
              "      <td>0.003</td>\n",
              "      <td>0.0</td>\n",
              "      <td>0.0</td>\n",
              "      <td>16.0</td>\n",
              "      <td>2.1</td>\n",
              "      <td>0.0</td>\n",
              "      <td>13.4</td>\n",
              "      <td>1.0</td>\n",
              "    </tr>\n",
              "    <tr>\n",
              "      <th>3</th>\n",
              "      <td>134.0</td>\n",
              "      <td>0.003</td>\n",
              "      <td>0.000</td>\n",
              "      <td>0.008</td>\n",
              "      <td>0.003</td>\n",
              "      <td>0.0</td>\n",
              "      <td>0.0</td>\n",
              "      <td>16.0</td>\n",
              "      <td>2.4</td>\n",
              "      <td>0.0</td>\n",
              "      <td>23.0</td>\n",
              "      <td>1.0</td>\n",
              "    </tr>\n",
              "    <tr>\n",
              "      <th>4</th>\n",
              "      <td>132.0</td>\n",
              "      <td>0.007</td>\n",
              "      <td>0.000</td>\n",
              "      <td>0.008</td>\n",
              "      <td>0.000</td>\n",
              "      <td>0.0</td>\n",
              "      <td>0.0</td>\n",
              "      <td>16.0</td>\n",
              "      <td>2.4</td>\n",
              "      <td>0.0</td>\n",
              "      <td>19.9</td>\n",
              "      <td>1.0</td>\n",
              "    </tr>\n",
              "    <tr>\n",
              "      <th>...</th>\n",
              "      <td>...</td>\n",
              "      <td>...</td>\n",
              "      <td>...</td>\n",
              "      <td>...</td>\n",
              "      <td>...</td>\n",
              "      <td>...</td>\n",
              "      <td>...</td>\n",
              "      <td>...</td>\n",
              "      <td>...</td>\n",
              "      <td>...</td>\n",
              "      <td>...</td>\n",
              "      <td>...</td>\n",
              "    </tr>\n",
              "    <tr>\n",
              "      <th>2121</th>\n",
              "      <td>140.0</td>\n",
              "      <td>0.000</td>\n",
              "      <td>0.000</td>\n",
              "      <td>0.007</td>\n",
              "      <td>0.000</td>\n",
              "      <td>0.0</td>\n",
              "      <td>0.0</td>\n",
              "      <td>79.0</td>\n",
              "      <td>0.2</td>\n",
              "      <td>25.0</td>\n",
              "      <td>7.2</td>\n",
              "      <td>2.0</td>\n",
              "    </tr>\n",
              "    <tr>\n",
              "      <th>2122</th>\n",
              "      <td>140.0</td>\n",
              "      <td>0.001</td>\n",
              "      <td>0.000</td>\n",
              "      <td>0.007</td>\n",
              "      <td>0.000</td>\n",
              "      <td>0.0</td>\n",
              "      <td>0.0</td>\n",
              "      <td>78.0</td>\n",
              "      <td>0.4</td>\n",
              "      <td>22.0</td>\n",
              "      <td>7.1</td>\n",
              "      <td>2.0</td>\n",
              "    </tr>\n",
              "    <tr>\n",
              "      <th>2123</th>\n",
              "      <td>140.0</td>\n",
              "      <td>0.001</td>\n",
              "      <td>0.000</td>\n",
              "      <td>0.007</td>\n",
              "      <td>0.000</td>\n",
              "      <td>0.0</td>\n",
              "      <td>0.0</td>\n",
              "      <td>79.0</td>\n",
              "      <td>0.4</td>\n",
              "      <td>20.0</td>\n",
              "      <td>6.1</td>\n",
              "      <td>2.0</td>\n",
              "    </tr>\n",
              "    <tr>\n",
              "      <th>2124</th>\n",
              "      <td>140.0</td>\n",
              "      <td>0.001</td>\n",
              "      <td>0.000</td>\n",
              "      <td>0.006</td>\n",
              "      <td>0.000</td>\n",
              "      <td>0.0</td>\n",
              "      <td>0.0</td>\n",
              "      <td>78.0</td>\n",
              "      <td>0.4</td>\n",
              "      <td>27.0</td>\n",
              "      <td>7.0</td>\n",
              "      <td>2.0</td>\n",
              "    </tr>\n",
              "    <tr>\n",
              "      <th>2125</th>\n",
              "      <td>142.0</td>\n",
              "      <td>0.002</td>\n",
              "      <td>0.002</td>\n",
              "      <td>0.008</td>\n",
              "      <td>0.000</td>\n",
              "      <td>0.0</td>\n",
              "      <td>0.0</td>\n",
              "      <td>74.0</td>\n",
              "      <td>0.4</td>\n",
              "      <td>36.0</td>\n",
              "      <td>5.0</td>\n",
              "      <td>1.0</td>\n",
              "    </tr>\n",
              "  </tbody>\n",
              "</table>\n",
              "<p>2126 rows × 12 columns</p>\n",
              "</div>\n",
              "    <div class=\"colab-df-buttons\">\n",
              "\n",
              "  <div class=\"colab-df-container\">\n",
              "    <button class=\"colab-df-convert\" onclick=\"convertToInteractive('df-f5a19a1d-b5c5-42ba-8668-9660fe89e4d0')\"\n",
              "            title=\"Convert this dataframe to an interactive table.\"\n",
              "            style=\"display:none;\">\n",
              "\n",
              "  <svg xmlns=\"http://www.w3.org/2000/svg\" height=\"24px\" viewBox=\"0 -960 960 960\">\n",
              "    <path d=\"M120-120v-720h720v720H120Zm60-500h600v-160H180v160Zm220 220h160v-160H400v160Zm0 220h160v-160H400v160ZM180-400h160v-160H180v160Zm440 0h160v-160H620v160ZM180-180h160v-160H180v160Zm440 0h160v-160H620v160Z\"/>\n",
              "  </svg>\n",
              "    </button>\n",
              "\n",
              "  <style>\n",
              "    .colab-df-container {\n",
              "      display:flex;\n",
              "      gap: 12px;\n",
              "    }\n",
              "\n",
              "    .colab-df-convert {\n",
              "      background-color: #E8F0FE;\n",
              "      border: none;\n",
              "      border-radius: 50%;\n",
              "      cursor: pointer;\n",
              "      display: none;\n",
              "      fill: #1967D2;\n",
              "      height: 32px;\n",
              "      padding: 0 0 0 0;\n",
              "      width: 32px;\n",
              "    }\n",
              "\n",
              "    .colab-df-convert:hover {\n",
              "      background-color: #E2EBFA;\n",
              "      box-shadow: 0px 1px 2px rgba(60, 64, 67, 0.3), 0px 1px 3px 1px rgba(60, 64, 67, 0.15);\n",
              "      fill: #174EA6;\n",
              "    }\n",
              "\n",
              "    .colab-df-buttons div {\n",
              "      margin-bottom: 4px;\n",
              "    }\n",
              "\n",
              "    [theme=dark] .colab-df-convert {\n",
              "      background-color: #3B4455;\n",
              "      fill: #D2E3FC;\n",
              "    }\n",
              "\n",
              "    [theme=dark] .colab-df-convert:hover {\n",
              "      background-color: #434B5C;\n",
              "      box-shadow: 0px 1px 3px 1px rgba(0, 0, 0, 0.15);\n",
              "      filter: drop-shadow(0px 1px 2px rgba(0, 0, 0, 0.3));\n",
              "      fill: #FFFFFF;\n",
              "    }\n",
              "  </style>\n",
              "\n",
              "    <script>\n",
              "      const buttonEl =\n",
              "        document.querySelector('#df-f5a19a1d-b5c5-42ba-8668-9660fe89e4d0 button.colab-df-convert');\n",
              "      buttonEl.style.display =\n",
              "        google.colab.kernel.accessAllowed ? 'block' : 'none';\n",
              "\n",
              "      async function convertToInteractive(key) {\n",
              "        const element = document.querySelector('#df-f5a19a1d-b5c5-42ba-8668-9660fe89e4d0');\n",
              "        const dataTable =\n",
              "          await google.colab.kernel.invokeFunction('convertToInteractive',\n",
              "                                                    [key], {});\n",
              "        if (!dataTable) return;\n",
              "\n",
              "        const docLinkHtml = 'Like what you see? Visit the ' +\n",
              "          '<a target=\"_blank\" href=https://colab.research.google.com/notebooks/data_table.ipynb>data table notebook</a>'\n",
              "          + ' to learn more about interactive tables.';\n",
              "        element.innerHTML = '';\n",
              "        dataTable['output_type'] = 'display_data';\n",
              "        await google.colab.output.renderOutput(dataTable, element);\n",
              "        const docLink = document.createElement('div');\n",
              "        docLink.innerHTML = docLinkHtml;\n",
              "        element.appendChild(docLink);\n",
              "      }\n",
              "    </script>\n",
              "  </div>\n",
              "\n",
              "\n",
              "<div id=\"df-85771201-46f9-41cd-a881-75c587adf113\">\n",
              "  <button class=\"colab-df-quickchart\" onclick=\"quickchart('df-85771201-46f9-41cd-a881-75c587adf113')\"\n",
              "            title=\"Suggest charts\"\n",
              "            style=\"display:none;\">\n",
              "\n",
              "<svg xmlns=\"http://www.w3.org/2000/svg\" height=\"24px\"viewBox=\"0 0 24 24\"\n",
              "     width=\"24px\">\n",
              "    <g>\n",
              "        <path d=\"M19 3H5c-1.1 0-2 .9-2 2v14c0 1.1.9 2 2 2h14c1.1 0 2-.9 2-2V5c0-1.1-.9-2-2-2zM9 17H7v-7h2v7zm4 0h-2V7h2v10zm4 0h-2v-4h2v4z\"/>\n",
              "    </g>\n",
              "</svg>\n",
              "  </button>\n",
              "\n",
              "<style>\n",
              "  .colab-df-quickchart {\n",
              "      --bg-color: #E8F0FE;\n",
              "      --fill-color: #1967D2;\n",
              "      --hover-bg-color: #E2EBFA;\n",
              "      --hover-fill-color: #174EA6;\n",
              "      --disabled-fill-color: #AAA;\n",
              "      --disabled-bg-color: #DDD;\n",
              "  }\n",
              "\n",
              "  [theme=dark] .colab-df-quickchart {\n",
              "      --bg-color: #3B4455;\n",
              "      --fill-color: #D2E3FC;\n",
              "      --hover-bg-color: #434B5C;\n",
              "      --hover-fill-color: #FFFFFF;\n",
              "      --disabled-bg-color: #3B4455;\n",
              "      --disabled-fill-color: #666;\n",
              "  }\n",
              "\n",
              "  .colab-df-quickchart {\n",
              "    background-color: var(--bg-color);\n",
              "    border: none;\n",
              "    border-radius: 50%;\n",
              "    cursor: pointer;\n",
              "    display: none;\n",
              "    fill: var(--fill-color);\n",
              "    height: 32px;\n",
              "    padding: 0;\n",
              "    width: 32px;\n",
              "  }\n",
              "\n",
              "  .colab-df-quickchart:hover {\n",
              "    background-color: var(--hover-bg-color);\n",
              "    box-shadow: 0 1px 2px rgba(60, 64, 67, 0.3), 0 1px 3px 1px rgba(60, 64, 67, 0.15);\n",
              "    fill: var(--button-hover-fill-color);\n",
              "  }\n",
              "\n",
              "  .colab-df-quickchart-complete:disabled,\n",
              "  .colab-df-quickchart-complete:disabled:hover {\n",
              "    background-color: var(--disabled-bg-color);\n",
              "    fill: var(--disabled-fill-color);\n",
              "    box-shadow: none;\n",
              "  }\n",
              "\n",
              "  .colab-df-spinner {\n",
              "    border: 2px solid var(--fill-color);\n",
              "    border-color: transparent;\n",
              "    border-bottom-color: var(--fill-color);\n",
              "    animation:\n",
              "      spin 1s steps(1) infinite;\n",
              "  }\n",
              "\n",
              "  @keyframes spin {\n",
              "    0% {\n",
              "      border-color: transparent;\n",
              "      border-bottom-color: var(--fill-color);\n",
              "      border-left-color: var(--fill-color);\n",
              "    }\n",
              "    20% {\n",
              "      border-color: transparent;\n",
              "      border-left-color: var(--fill-color);\n",
              "      border-top-color: var(--fill-color);\n",
              "    }\n",
              "    30% {\n",
              "      border-color: transparent;\n",
              "      border-left-color: var(--fill-color);\n",
              "      border-top-color: var(--fill-color);\n",
              "      border-right-color: var(--fill-color);\n",
              "    }\n",
              "    40% {\n",
              "      border-color: transparent;\n",
              "      border-right-color: var(--fill-color);\n",
              "      border-top-color: var(--fill-color);\n",
              "    }\n",
              "    60% {\n",
              "      border-color: transparent;\n",
              "      border-right-color: var(--fill-color);\n",
              "    }\n",
              "    80% {\n",
              "      border-color: transparent;\n",
              "      border-right-color: var(--fill-color);\n",
              "      border-bottom-color: var(--fill-color);\n",
              "    }\n",
              "    90% {\n",
              "      border-color: transparent;\n",
              "      border-bottom-color: var(--fill-color);\n",
              "    }\n",
              "  }\n",
              "</style>\n",
              "\n",
              "  <script>\n",
              "    async function quickchart(key) {\n",
              "      const quickchartButtonEl =\n",
              "        document.querySelector('#' + key + ' button');\n",
              "      quickchartButtonEl.disabled = true;  // To prevent multiple clicks.\n",
              "      quickchartButtonEl.classList.add('colab-df-spinner');\n",
              "      try {\n",
              "        const charts = await google.colab.kernel.invokeFunction(\n",
              "            'suggestCharts', [key], {});\n",
              "      } catch (error) {\n",
              "        console.error('Error during call to suggestCharts:', error);\n",
              "      }\n",
              "      quickchartButtonEl.classList.remove('colab-df-spinner');\n",
              "      quickchartButtonEl.classList.add('colab-df-quickchart-complete');\n",
              "    }\n",
              "    (() => {\n",
              "      let quickchartButtonEl =\n",
              "        document.querySelector('#df-85771201-46f9-41cd-a881-75c587adf113 button');\n",
              "      quickchartButtonEl.style.display =\n",
              "        google.colab.kernel.accessAllowed ? 'block' : 'none';\n",
              "    })();\n",
              "  </script>\n",
              "</div>\n",
              "\n",
              "  <div id=\"id_3d4f9cb2-3ccc-498d-b487-e32780b2c72a\">\n",
              "    <style>\n",
              "      .colab-df-generate {\n",
              "        background-color: #E8F0FE;\n",
              "        border: none;\n",
              "        border-radius: 50%;\n",
              "        cursor: pointer;\n",
              "        display: none;\n",
              "        fill: #1967D2;\n",
              "        height: 32px;\n",
              "        padding: 0 0 0 0;\n",
              "        width: 32px;\n",
              "      }\n",
              "\n",
              "      .colab-df-generate:hover {\n",
              "        background-color: #E2EBFA;\n",
              "        box-shadow: 0px 1px 2px rgba(60, 64, 67, 0.3), 0px 1px 3px 1px rgba(60, 64, 67, 0.15);\n",
              "        fill: #174EA6;\n",
              "      }\n",
              "\n",
              "      [theme=dark] .colab-df-generate {\n",
              "        background-color: #3B4455;\n",
              "        fill: #D2E3FC;\n",
              "      }\n",
              "\n",
              "      [theme=dark] .colab-df-generate:hover {\n",
              "        background-color: #434B5C;\n",
              "        box-shadow: 0px 1px 3px 1px rgba(0, 0, 0, 0.15);\n",
              "        filter: drop-shadow(0px 1px 2px rgba(0, 0, 0, 0.3));\n",
              "        fill: #FFFFFF;\n",
              "      }\n",
              "    </style>\n",
              "    <button class=\"colab-df-generate\" onclick=\"generateWithVariable('new_df')\"\n",
              "            title=\"Generate code using this dataframe.\"\n",
              "            style=\"display:none;\">\n",
              "\n",
              "  <svg xmlns=\"http://www.w3.org/2000/svg\" height=\"24px\"viewBox=\"0 0 24 24\"\n",
              "       width=\"24px\">\n",
              "    <path d=\"M7,19H8.4L18.45,9,17,7.55,7,17.6ZM5,21V16.75L18.45,3.32a2,2,0,0,1,2.83,0l1.4,1.43a1.91,1.91,0,0,1,.58,1.4,1.91,1.91,0,0,1-.58,1.4L9.25,21ZM18.45,9,17,7.55Zm-12,3A5.31,5.31,0,0,0,4.9,8.1,5.31,5.31,0,0,0,1,6.5,5.31,5.31,0,0,0,4.9,4.9,5.31,5.31,0,0,0,6.5,1,5.31,5.31,0,0,0,8.1,4.9,5.31,5.31,0,0,0,12,6.5,5.46,5.46,0,0,0,6.5,12Z\"/>\n",
              "  </svg>\n",
              "    </button>\n",
              "    <script>\n",
              "      (() => {\n",
              "      const buttonEl =\n",
              "        document.querySelector('#id_3d4f9cb2-3ccc-498d-b487-e32780b2c72a button.colab-df-generate');\n",
              "      buttonEl.style.display =\n",
              "        google.colab.kernel.accessAllowed ? 'block' : 'none';\n",
              "\n",
              "      buttonEl.onclick = () => {\n",
              "        google.colab.notebook.generateWithVariable('new_df');\n",
              "      }\n",
              "      })();\n",
              "    </script>\n",
              "  </div>\n",
              "\n",
              "    </div>\n",
              "  </div>\n"
            ],
            "application/vnd.google.colaboratory.intrinsic+json": {
              "type": "dataframe",
              "variable_name": "new_df",
              "summary": "{\n  \"name\": \"new_df\",\n  \"rows\": 2126,\n  \"fields\": [\n    {\n      \"column\": \"baseline value\",\n      \"properties\": {\n        \"dtype\": \"number\",\n        \"std\": 9.84084425772098,\n        \"min\": 106.0,\n        \"max\": 160.0,\n        \"num_unique_values\": 48,\n        \"samples\": [\n          145.0,\n          147.0,\n          154.0\n        ],\n        \"semantic_type\": \"\",\n        \"description\": \"\"\n      }\n    },\n    {\n      \"column\": \"accelerations\",\n      \"properties\": {\n        \"dtype\": \"number\",\n        \"std\": 0.0038655909542954993,\n        \"min\": 0.0,\n        \"max\": 0.019,\n        \"num_unique_values\": 20,\n        \"samples\": [\n          0.0,\n          0.016,\n          0.017\n        ],\n        \"semantic_type\": \"\",\n        \"description\": \"\"\n      }\n    },\n    {\n      \"column\": \"fetal_movement\",\n      \"properties\": {\n        \"dtype\": \"number\",\n        \"std\": 0.04666584446548402,\n        \"min\": 0.0,\n        \"max\": 0.481,\n        \"num_unique_values\": 102,\n        \"samples\": [\n          0.003,\n          0.084,\n          0.043\n        ],\n        \"semantic_type\": \"\",\n        \"description\": \"\"\n      }\n    },\n    {\n      \"column\": \"uterine_contractions\",\n      \"properties\": {\n        \"dtype\": \"number\",\n        \"std\": 0.0029460691328838896,\n        \"min\": 0.0,\n        \"max\": 0.015,\n        \"num_unique_values\": 16,\n        \"samples\": [\n          0.0,\n          0.006,\n          0.002\n        ],\n        \"semantic_type\": \"\",\n        \"description\": \"\"\n      }\n    },\n    {\n      \"column\": \"light_decelerations\",\n      \"properties\": {\n        \"dtype\": \"number\",\n        \"std\": 0.0029602085768095977,\n        \"min\": 0.0,\n        \"max\": 0.015,\n        \"num_unique_values\": 16,\n        \"samples\": [\n          0.0,\n          0.003,\n          0.002\n        ],\n        \"semantic_type\": \"\",\n        \"description\": \"\"\n      }\n    },\n    {\n      \"column\": \"severe_decelerations\",\n      \"properties\": {\n        \"dtype\": \"number\",\n        \"std\": 5.7299838918067455e-05,\n        \"min\": 0.0,\n        \"max\": 0.001,\n        \"num_unique_values\": 2,\n        \"samples\": [\n          0.001,\n          0.0\n        ],\n        \"semantic_type\": \"\",\n        \"description\": \"\"\n      }\n    },\n    {\n      \"column\": \"prolongued_decelerations\",\n      \"properties\": {\n        \"dtype\": \"number\",\n        \"std\": 0.0005899475163513594,\n        \"min\": 0.0,\n        \"max\": 0.005,\n        \"num_unique_values\": 6,\n        \"samples\": [\n          0.0,\n          0.002\n        ],\n        \"semantic_type\": \"\",\n        \"description\": \"\"\n      }\n    },\n    {\n      \"column\": \"abnormal_short_term_variability\",\n      \"properties\": {\n        \"dtype\": \"number\",\n        \"std\": 17.19281371857163,\n        \"min\": 12.0,\n        \"max\": 87.0,\n        \"num_unique_values\": 75,\n        \"samples\": [\n          29.0,\n          13.0\n        ],\n        \"semantic_type\": \"\",\n        \"description\": \"\"\n      }\n    },\n    {\n      \"column\": \"mean_value_of_short_term_variability\",\n      \"properties\": {\n        \"dtype\": \"number\",\n        \"std\": 0.883241334106822,\n        \"min\": 0.2,\n        \"max\": 7.0,\n        \"num_unique_values\": 57,\n        \"samples\": [\n          0.5,\n          0.3\n        ],\n        \"semantic_type\": \"\",\n        \"description\": \"\"\n      }\n    },\n    {\n      \"column\": \"percentage_of_time_with_abnormal_long_term_variability\",\n      \"properties\": {\n        \"dtype\": \"number\",\n        \"std\": 18.396879675177516,\n        \"min\": 0.0,\n        \"max\": 91.0,\n        \"num_unique_values\": 87,\n        \"samples\": [\n          70.0,\n          43.0\n        ],\n        \"semantic_type\": \"\",\n        \"description\": \"\"\n      }\n    },\n    {\n      \"column\": \"mean_value_of_long_term_variability\",\n      \"properties\": {\n        \"dtype\": \"number\",\n        \"std\": 5.6282466040678685,\n        \"min\": 0.0,\n        \"max\": 50.7,\n        \"num_unique_values\": 249,\n        \"samples\": [\n          17.9,\n          15.6\n        ],\n        \"semantic_type\": \"\",\n        \"description\": \"\"\n      }\n    },\n    {\n      \"column\": \"fetal_health\",\n      \"properties\": {\n        \"dtype\": \"number\",\n        \"std\": 0.6143768485783404,\n        \"min\": 1.0,\n        \"max\": 3.0,\n        \"num_unique_values\": 3,\n        \"samples\": [\n          2.0,\n          1.0\n        ],\n        \"semantic_type\": \"\",\n        \"description\": \"\"\n      }\n    }\n  ]\n}"
            }
          },
          "metadata": {},
          "execution_count": 254
        }
      ]
    },
    {
      "cell_type": "markdown",
      "metadata": {
        "id": "p4JddjGwWYcn"
      },
      "source": [
        "b, 7 points) Try predicting your target variable using a RandomForestClassifier from scikit-learn, with all the other numerical features in the dataset as your features.  You can create a dataframe that includes just your numeric features with df.select_dtypes(include='number'), and drop your target (to-be-predicted) column from your features if you need to with df = df.drop(columns=['target']).  (The suggested dataset should also drop the first 'Unnamed' column - that row number predicts the genre number pretty well in that dataset!)  Use a train-test split with 10% of the data in the test set, and evaluate the accuracy on the test set."
      ]
    },
    {
      "cell_type": "code",
      "execution_count": 320,
      "metadata": {
        "colab": {
          "base_uri": "https://localhost:8080/",
          "height": 0
        },
        "id": "-1Sk5FmqWYcn",
        "outputId": "b49eafc5-f9f4-487d-ce81-eb42d3f044ed"
      },
      "outputs": [
        {
          "output_type": "stream",
          "name": "stdout",
          "text": [
            "The accuracy score of this model is approximately 92.96%\n",
            "baseline value has 9.48% importance\n",
            "accelerations has 6.53% importance\n",
            "fetal_movement has 3.59% importance\n",
            "uterine_contractions has 6.48% importance\n",
            "light_decelerations has 2.66% importance\n",
            "severe_decelerations has 0.34% importance\n",
            "prolongued_decelerations has 10.09% importance\n",
            "abnormal_short_term_variability has 19.02% importance\n",
            "mean_value_of_short_term_variability has 17.09% importance\n",
            "percentage_of_time_with_abnormal_long_term_variability has 14.83% importance\n",
            "mean_value_of_long_term_variability has 9.88% importance\n"
          ]
        }
      ],
      "source": [
        "# TODO\n",
        "from sklearn.ensemble import RandomForestClassifier\n",
        "from sklearn.model_selection import train_test_split\n",
        "\n",
        "X = new_df.select_dtypes(include=\"number\").drop(columns = ['fetal_health'])\n",
        "y = new_df['fetal_health']\n",
        "\n",
        "X_train, X_test, y_train, y_test = train_test_split(X, y, test_size = 0.1, random_state = 110)\n",
        "\n",
        "classifier = RandomForestClassifier(n_estimators=150, random_state=110)\n",
        "classifier.fit(X_train, y_train)\n",
        "accuracy = classifier.score(X_test, y_test)\n",
        "accuracy = accuracy * 100\n",
        "print(f\"The accuracy score of this model is approximately {accuracy:.2f}%\")\n",
        "\n",
        "feature_names = list(X.columns)\n",
        "for idx, obj in enumerate(zip(feature_names, classifier.feature_importances_)):\n",
        "  name, feature = obj\n",
        "  feature = feature*100\n",
        "  print(f\"{name} has {feature:.2f}% importance\")"
      ]
    },
    {
      "cell_type": "markdown",
      "metadata": {
        "id": "kgpYGvr9WYco"
      },
      "source": [
        "c, 4 points) Choose one argument to RandomForestClassifier besides n_estimators that you vary to try to improve your classifier's accuracy.  (See documentation here:  https://scikit-learn.org/stable/modules/generated/sklearn.ensemble.RandomForestClassifier.html)  Train three different classifiers with different values for this parameter, counting the one you already trained."
      ]
    },
    {
      "cell_type": "code",
      "execution_count": 321,
      "metadata": {
        "colab": {
          "base_uri": "https://localhost:8080/",
          "height": 0
        },
        "id": "VXIdk4-jWYco",
        "outputId": "f8213a2f-f25b-439d-cca4-323de33c0b41"
      },
      "outputs": [
        {
          "output_type": "stream",
          "name": "stdout",
          "text": [
            "The accuracy score of this model is approximately 93.90%\n",
            "baseline value has 9.24% importance\n",
            "accelerations has 6.95% importance\n",
            "fetal_movement has 3.71% importance\n",
            "uterine_contractions has 6.27% importance\n",
            "light_decelerations has 2.61% importance\n",
            "severe_decelerations has 0.32% importance\n",
            "prolongued_decelerations has 10.47% importance\n",
            "abnormal_short_term_variability has 19.03% importance\n",
            "mean_value_of_short_term_variability has 17.36% importance\n",
            "percentage_of_time_with_abnormal_long_term_variability has 14.45% importance\n",
            "mean_value_of_long_term_variability has 9.58% importance\n"
          ]
        }
      ],
      "source": [
        "# TODO variation 2\n",
        "\n",
        "classifier_2 = RandomForestClassifier(n_estimators=150, max_depth = 10, random_state=110)\n",
        "classifier_2.fit(X_train, y_train)\n",
        "accuracy = classifier_2.score(X_test, y_test)\n",
        "accuracy = accuracy * 100\n",
        "print(f\"The accuracy score of this model is approximately {accuracy:.2f}%\")\n",
        "\n",
        "for idx, obj in enumerate(zip(feature_names, classifier_2.feature_importances_)):\n",
        "  name, feature = obj\n",
        "  feature = feature*100\n",
        "  print(f\"{name} has {feature:.2f}% importance\")"
      ]
    },
    {
      "cell_type": "code",
      "execution_count": 322,
      "metadata": {
        "colab": {
          "base_uri": "https://localhost:8080/",
          "height": 0
        },
        "id": "35iydqJrWYco",
        "outputId": "8ad98e17-965f-472c-8925-58924d555749"
      },
      "outputs": [
        {
          "output_type": "stream",
          "name": "stdout",
          "text": [
            "The accuracy score of this model is approximately 93.43%\n",
            "baseline value has 9.03% importance\n",
            "accelerations has 6.82% importance\n",
            "fetal_movement has 3.29% importance\n",
            "uterine_contractions has 6.07% importance\n",
            "light_decelerations has 2.29% importance\n",
            "severe_decelerations has 0.21% importance\n",
            "prolongued_decelerations has 10.71% importance\n",
            "abnormal_short_term_variability has 19.15% importance\n",
            "mean_value_of_short_term_variability has 17.95% importance\n",
            "percentage_of_time_with_abnormal_long_term_variability has 15.59% importance\n",
            "mean_value_of_long_term_variability has 8.89% importance\n"
          ]
        }
      ],
      "source": [
        "# TODO variation 3\n",
        "\n",
        "classifier_3 = RandomForestClassifier(n_estimators=100, max_depth = 10, min_samples_leaf=2, random_state=110)\n",
        "classifier_3.fit(X_train, y_train)\n",
        "accuracy = classifier_3.score(X_test, y_test)\n",
        "accuracy = accuracy * 100\n",
        "print(f\"The accuracy score of this model is approximately {accuracy:.2f}%\")\n",
        "\n",
        "for idx, obj in enumerate(zip(feature_names, classifier_3.feature_importances_)):\n",
        "  name, feature = obj\n",
        "  feature = feature*100\n",
        "  print(f\"{name} has {feature:.2f}% importance\")"
      ]
    },
    {
      "cell_type": "markdown",
      "metadata": {
        "id": "eMVCml58WYco"
      },
      "source": [
        "d, 2 points) Use the *_feature_importances* attribute of the RandomForestClassifier to find the relative importances of all your features in your best model."
      ]
    },
    {
      "cell_type": "code",
      "execution_count": 341,
      "metadata": {
        "colab": {
          "base_uri": "https://localhost:8080/",
          "height": 394
        },
        "id": "ly-FzVeKWYco",
        "outputId": "30496e36-3134-442e-f302-204b47fe026d"
      },
      "outputs": [
        {
          "output_type": "execute_result",
          "data": {
            "text/plain": [
              "                                                    Model 1: N_Estimators = 100  \\\n",
              "baseline value                                                         0.094843   \n",
              "accelerations                                                          0.065319   \n",
              "fetal_movement                                                         0.035944   \n",
              "uterine_contractions                                                   0.064779   \n",
              "light_decelerations                                                    0.026636   \n",
              "severe_decelerations                                                   0.003370   \n",
              "prolongued_decelerations                                               0.100949   \n",
              "abnormal_short_term_variability                                        0.190193   \n",
              "mean_value_of_short_term_variability                                   0.170868   \n",
              "percentage_of_time_with_abnormal_long_term_vari...                     0.148254   \n",
              "mean_value_of_long_term_variability                                    0.098846   \n",
              "\n",
              "                                                    Model 2: Max_Depth = 10  \\\n",
              "baseline value                                                     0.092442   \n",
              "accelerations                                                      0.069467   \n",
              "fetal_movement                                                     0.037148   \n",
              "uterine_contractions                                               0.062693   \n",
              "light_decelerations                                                0.026092   \n",
              "severe_decelerations                                               0.003152   \n",
              "prolongued_decelerations                                           0.104715   \n",
              "abnormal_short_term_variability                                    0.190291   \n",
              "mean_value_of_short_term_variability                               0.173620   \n",
              "percentage_of_time_with_abnormal_long_term_vari...                 0.144544   \n",
              "mean_value_of_long_term_variability                                0.095834   \n",
              "\n",
              "                                                    Model 3: Min_Samples_Leaf = 2  \n",
              "baseline value                                                           0.090273  \n",
              "accelerations                                                            0.068174  \n",
              "fetal_movement                                                           0.032876  \n",
              "uterine_contractions                                                     0.060741  \n",
              "light_decelerations                                                      0.022862  \n",
              "severe_decelerations                                                     0.002109  \n",
              "prolongued_decelerations                                                 0.107135  \n",
              "abnormal_short_term_variability                                          0.191515  \n",
              "mean_value_of_short_term_variability                                     0.179461  \n",
              "percentage_of_time_with_abnormal_long_term_vari...                       0.155930  \n",
              "mean_value_of_long_term_variability                                      0.088923  "
            ],
            "text/html": [
              "\n",
              "  <div id=\"df-bf45e4cf-14ed-4e0d-a1ea-909727de8cde\" class=\"colab-df-container\">\n",
              "    <div>\n",
              "<style scoped>\n",
              "    .dataframe tbody tr th:only-of-type {\n",
              "        vertical-align: middle;\n",
              "    }\n",
              "\n",
              "    .dataframe tbody tr th {\n",
              "        vertical-align: top;\n",
              "    }\n",
              "\n",
              "    .dataframe thead th {\n",
              "        text-align: right;\n",
              "    }\n",
              "</style>\n",
              "<table border=\"1\" class=\"dataframe\">\n",
              "  <thead>\n",
              "    <tr style=\"text-align: right;\">\n",
              "      <th></th>\n",
              "      <th>Model 1: N_Estimators = 100</th>\n",
              "      <th>Model 2: Max_Depth = 10</th>\n",
              "      <th>Model 3: Min_Samples_Leaf = 2</th>\n",
              "    </tr>\n",
              "  </thead>\n",
              "  <tbody>\n",
              "    <tr>\n",
              "      <th>baseline value</th>\n",
              "      <td>0.094843</td>\n",
              "      <td>0.092442</td>\n",
              "      <td>0.090273</td>\n",
              "    </tr>\n",
              "    <tr>\n",
              "      <th>accelerations</th>\n",
              "      <td>0.065319</td>\n",
              "      <td>0.069467</td>\n",
              "      <td>0.068174</td>\n",
              "    </tr>\n",
              "    <tr>\n",
              "      <th>fetal_movement</th>\n",
              "      <td>0.035944</td>\n",
              "      <td>0.037148</td>\n",
              "      <td>0.032876</td>\n",
              "    </tr>\n",
              "    <tr>\n",
              "      <th>uterine_contractions</th>\n",
              "      <td>0.064779</td>\n",
              "      <td>0.062693</td>\n",
              "      <td>0.060741</td>\n",
              "    </tr>\n",
              "    <tr>\n",
              "      <th>light_decelerations</th>\n",
              "      <td>0.026636</td>\n",
              "      <td>0.026092</td>\n",
              "      <td>0.022862</td>\n",
              "    </tr>\n",
              "    <tr>\n",
              "      <th>severe_decelerations</th>\n",
              "      <td>0.003370</td>\n",
              "      <td>0.003152</td>\n",
              "      <td>0.002109</td>\n",
              "    </tr>\n",
              "    <tr>\n",
              "      <th>prolongued_decelerations</th>\n",
              "      <td>0.100949</td>\n",
              "      <td>0.104715</td>\n",
              "      <td>0.107135</td>\n",
              "    </tr>\n",
              "    <tr>\n",
              "      <th>abnormal_short_term_variability</th>\n",
              "      <td>0.190193</td>\n",
              "      <td>0.190291</td>\n",
              "      <td>0.191515</td>\n",
              "    </tr>\n",
              "    <tr>\n",
              "      <th>mean_value_of_short_term_variability</th>\n",
              "      <td>0.170868</td>\n",
              "      <td>0.173620</td>\n",
              "      <td>0.179461</td>\n",
              "    </tr>\n",
              "    <tr>\n",
              "      <th>percentage_of_time_with_abnormal_long_term_variability</th>\n",
              "      <td>0.148254</td>\n",
              "      <td>0.144544</td>\n",
              "      <td>0.155930</td>\n",
              "    </tr>\n",
              "    <tr>\n",
              "      <th>mean_value_of_long_term_variability</th>\n",
              "      <td>0.098846</td>\n",
              "      <td>0.095834</td>\n",
              "      <td>0.088923</td>\n",
              "    </tr>\n",
              "  </tbody>\n",
              "</table>\n",
              "</div>\n",
              "    <div class=\"colab-df-buttons\">\n",
              "\n",
              "  <div class=\"colab-df-container\">\n",
              "    <button class=\"colab-df-convert\" onclick=\"convertToInteractive('df-bf45e4cf-14ed-4e0d-a1ea-909727de8cde')\"\n",
              "            title=\"Convert this dataframe to an interactive table.\"\n",
              "            style=\"display:none;\">\n",
              "\n",
              "  <svg xmlns=\"http://www.w3.org/2000/svg\" height=\"24px\" viewBox=\"0 -960 960 960\">\n",
              "    <path d=\"M120-120v-720h720v720H120Zm60-500h600v-160H180v160Zm220 220h160v-160H400v160Zm0 220h160v-160H400v160ZM180-400h160v-160H180v160Zm440 0h160v-160H620v160ZM180-180h160v-160H180v160Zm440 0h160v-160H620v160Z\"/>\n",
              "  </svg>\n",
              "    </button>\n",
              "\n",
              "  <style>\n",
              "    .colab-df-container {\n",
              "      display:flex;\n",
              "      gap: 12px;\n",
              "    }\n",
              "\n",
              "    .colab-df-convert {\n",
              "      background-color: #E8F0FE;\n",
              "      border: none;\n",
              "      border-radius: 50%;\n",
              "      cursor: pointer;\n",
              "      display: none;\n",
              "      fill: #1967D2;\n",
              "      height: 32px;\n",
              "      padding: 0 0 0 0;\n",
              "      width: 32px;\n",
              "    }\n",
              "\n",
              "    .colab-df-convert:hover {\n",
              "      background-color: #E2EBFA;\n",
              "      box-shadow: 0px 1px 2px rgba(60, 64, 67, 0.3), 0px 1px 3px 1px rgba(60, 64, 67, 0.15);\n",
              "      fill: #174EA6;\n",
              "    }\n",
              "\n",
              "    .colab-df-buttons div {\n",
              "      margin-bottom: 4px;\n",
              "    }\n",
              "\n",
              "    [theme=dark] .colab-df-convert {\n",
              "      background-color: #3B4455;\n",
              "      fill: #D2E3FC;\n",
              "    }\n",
              "\n",
              "    [theme=dark] .colab-df-convert:hover {\n",
              "      background-color: #434B5C;\n",
              "      box-shadow: 0px 1px 3px 1px rgba(0, 0, 0, 0.15);\n",
              "      filter: drop-shadow(0px 1px 2px rgba(0, 0, 0, 0.3));\n",
              "      fill: #FFFFFF;\n",
              "    }\n",
              "  </style>\n",
              "\n",
              "    <script>\n",
              "      const buttonEl =\n",
              "        document.querySelector('#df-bf45e4cf-14ed-4e0d-a1ea-909727de8cde button.colab-df-convert');\n",
              "      buttonEl.style.display =\n",
              "        google.colab.kernel.accessAllowed ? 'block' : 'none';\n",
              "\n",
              "      async function convertToInteractive(key) {\n",
              "        const element = document.querySelector('#df-bf45e4cf-14ed-4e0d-a1ea-909727de8cde');\n",
              "        const dataTable =\n",
              "          await google.colab.kernel.invokeFunction('convertToInteractive',\n",
              "                                                    [key], {});\n",
              "        if (!dataTable) return;\n",
              "\n",
              "        const docLinkHtml = 'Like what you see? Visit the ' +\n",
              "          '<a target=\"_blank\" href=https://colab.research.google.com/notebooks/data_table.ipynb>data table notebook</a>'\n",
              "          + ' to learn more about interactive tables.';\n",
              "        element.innerHTML = '';\n",
              "        dataTable['output_type'] = 'display_data';\n",
              "        await google.colab.output.renderOutput(dataTable, element);\n",
              "        const docLink = document.createElement('div');\n",
              "        docLink.innerHTML = docLinkHtml;\n",
              "        element.appendChild(docLink);\n",
              "      }\n",
              "    </script>\n",
              "  </div>\n",
              "\n",
              "\n",
              "<div id=\"df-a439e5ba-10ac-45d6-ae4c-20dea3f0e934\">\n",
              "  <button class=\"colab-df-quickchart\" onclick=\"quickchart('df-a439e5ba-10ac-45d6-ae4c-20dea3f0e934')\"\n",
              "            title=\"Suggest charts\"\n",
              "            style=\"display:none;\">\n",
              "\n",
              "<svg xmlns=\"http://www.w3.org/2000/svg\" height=\"24px\"viewBox=\"0 0 24 24\"\n",
              "     width=\"24px\">\n",
              "    <g>\n",
              "        <path d=\"M19 3H5c-1.1 0-2 .9-2 2v14c0 1.1.9 2 2 2h14c1.1 0 2-.9 2-2V5c0-1.1-.9-2-2-2zM9 17H7v-7h2v7zm4 0h-2V7h2v10zm4 0h-2v-4h2v4z\"/>\n",
              "    </g>\n",
              "</svg>\n",
              "  </button>\n",
              "\n",
              "<style>\n",
              "  .colab-df-quickchart {\n",
              "      --bg-color: #E8F0FE;\n",
              "      --fill-color: #1967D2;\n",
              "      --hover-bg-color: #E2EBFA;\n",
              "      --hover-fill-color: #174EA6;\n",
              "      --disabled-fill-color: #AAA;\n",
              "      --disabled-bg-color: #DDD;\n",
              "  }\n",
              "\n",
              "  [theme=dark] .colab-df-quickchart {\n",
              "      --bg-color: #3B4455;\n",
              "      --fill-color: #D2E3FC;\n",
              "      --hover-bg-color: #434B5C;\n",
              "      --hover-fill-color: #FFFFFF;\n",
              "      --disabled-bg-color: #3B4455;\n",
              "      --disabled-fill-color: #666;\n",
              "  }\n",
              "\n",
              "  .colab-df-quickchart {\n",
              "    background-color: var(--bg-color);\n",
              "    border: none;\n",
              "    border-radius: 50%;\n",
              "    cursor: pointer;\n",
              "    display: none;\n",
              "    fill: var(--fill-color);\n",
              "    height: 32px;\n",
              "    padding: 0;\n",
              "    width: 32px;\n",
              "  }\n",
              "\n",
              "  .colab-df-quickchart:hover {\n",
              "    background-color: var(--hover-bg-color);\n",
              "    box-shadow: 0 1px 2px rgba(60, 64, 67, 0.3), 0 1px 3px 1px rgba(60, 64, 67, 0.15);\n",
              "    fill: var(--button-hover-fill-color);\n",
              "  }\n",
              "\n",
              "  .colab-df-quickchart-complete:disabled,\n",
              "  .colab-df-quickchart-complete:disabled:hover {\n",
              "    background-color: var(--disabled-bg-color);\n",
              "    fill: var(--disabled-fill-color);\n",
              "    box-shadow: none;\n",
              "  }\n",
              "\n",
              "  .colab-df-spinner {\n",
              "    border: 2px solid var(--fill-color);\n",
              "    border-color: transparent;\n",
              "    border-bottom-color: var(--fill-color);\n",
              "    animation:\n",
              "      spin 1s steps(1) infinite;\n",
              "  }\n",
              "\n",
              "  @keyframes spin {\n",
              "    0% {\n",
              "      border-color: transparent;\n",
              "      border-bottom-color: var(--fill-color);\n",
              "      border-left-color: var(--fill-color);\n",
              "    }\n",
              "    20% {\n",
              "      border-color: transparent;\n",
              "      border-left-color: var(--fill-color);\n",
              "      border-top-color: var(--fill-color);\n",
              "    }\n",
              "    30% {\n",
              "      border-color: transparent;\n",
              "      border-left-color: var(--fill-color);\n",
              "      border-top-color: var(--fill-color);\n",
              "      border-right-color: var(--fill-color);\n",
              "    }\n",
              "    40% {\n",
              "      border-color: transparent;\n",
              "      border-right-color: var(--fill-color);\n",
              "      border-top-color: var(--fill-color);\n",
              "    }\n",
              "    60% {\n",
              "      border-color: transparent;\n",
              "      border-right-color: var(--fill-color);\n",
              "    }\n",
              "    80% {\n",
              "      border-color: transparent;\n",
              "      border-right-color: var(--fill-color);\n",
              "      border-bottom-color: var(--fill-color);\n",
              "    }\n",
              "    90% {\n",
              "      border-color: transparent;\n",
              "      border-bottom-color: var(--fill-color);\n",
              "    }\n",
              "  }\n",
              "</style>\n",
              "\n",
              "  <script>\n",
              "    async function quickchart(key) {\n",
              "      const quickchartButtonEl =\n",
              "        document.querySelector('#' + key + ' button');\n",
              "      quickchartButtonEl.disabled = true;  // To prevent multiple clicks.\n",
              "      quickchartButtonEl.classList.add('colab-df-spinner');\n",
              "      try {\n",
              "        const charts = await google.colab.kernel.invokeFunction(\n",
              "            'suggestCharts', [key], {});\n",
              "      } catch (error) {\n",
              "        console.error('Error during call to suggestCharts:', error);\n",
              "      }\n",
              "      quickchartButtonEl.classList.remove('colab-df-spinner');\n",
              "      quickchartButtonEl.classList.add('colab-df-quickchart-complete');\n",
              "    }\n",
              "    (() => {\n",
              "      let quickchartButtonEl =\n",
              "        document.querySelector('#df-a439e5ba-10ac-45d6-ae4c-20dea3f0e934 button');\n",
              "      quickchartButtonEl.style.display =\n",
              "        google.colab.kernel.accessAllowed ? 'block' : 'none';\n",
              "    })();\n",
              "  </script>\n",
              "</div>\n",
              "\n",
              "  <div id=\"id_e78783aa-0d36-4b93-a1e6-7dcae692371a\">\n",
              "    <style>\n",
              "      .colab-df-generate {\n",
              "        background-color: #E8F0FE;\n",
              "        border: none;\n",
              "        border-radius: 50%;\n",
              "        cursor: pointer;\n",
              "        display: none;\n",
              "        fill: #1967D2;\n",
              "        height: 32px;\n",
              "        padding: 0 0 0 0;\n",
              "        width: 32px;\n",
              "      }\n",
              "\n",
              "      .colab-df-generate:hover {\n",
              "        background-color: #E2EBFA;\n",
              "        box-shadow: 0px 1px 2px rgba(60, 64, 67, 0.3), 0px 1px 3px 1px rgba(60, 64, 67, 0.15);\n",
              "        fill: #174EA6;\n",
              "      }\n",
              "\n",
              "      [theme=dark] .colab-df-generate {\n",
              "        background-color: #3B4455;\n",
              "        fill: #D2E3FC;\n",
              "      }\n",
              "\n",
              "      [theme=dark] .colab-df-generate:hover {\n",
              "        background-color: #434B5C;\n",
              "        box-shadow: 0px 1px 3px 1px rgba(0, 0, 0, 0.15);\n",
              "        filter: drop-shadow(0px 1px 2px rgba(0, 0, 0, 0.3));\n",
              "        fill: #FFFFFF;\n",
              "      }\n",
              "    </style>\n",
              "    <button class=\"colab-df-generate\" onclick=\"generateWithVariable('imp_df')\"\n",
              "            title=\"Generate code using this dataframe.\"\n",
              "            style=\"display:none;\">\n",
              "\n",
              "  <svg xmlns=\"http://www.w3.org/2000/svg\" height=\"24px\"viewBox=\"0 0 24 24\"\n",
              "       width=\"24px\">\n",
              "    <path d=\"M7,19H8.4L18.45,9,17,7.55,7,17.6ZM5,21V16.75L18.45,3.32a2,2,0,0,1,2.83,0l1.4,1.43a1.91,1.91,0,0,1,.58,1.4,1.91,1.91,0,0,1-.58,1.4L9.25,21ZM18.45,9,17,7.55Zm-12,3A5.31,5.31,0,0,0,4.9,8.1,5.31,5.31,0,0,0,1,6.5,5.31,5.31,0,0,0,4.9,4.9,5.31,5.31,0,0,0,6.5,1,5.31,5.31,0,0,0,8.1,4.9,5.31,5.31,0,0,0,12,6.5,5.46,5.46,0,0,0,6.5,12Z\"/>\n",
              "  </svg>\n",
              "    </button>\n",
              "    <script>\n",
              "      (() => {\n",
              "      const buttonEl =\n",
              "        document.querySelector('#id_e78783aa-0d36-4b93-a1e6-7dcae692371a button.colab-df-generate');\n",
              "      buttonEl.style.display =\n",
              "        google.colab.kernel.accessAllowed ? 'block' : 'none';\n",
              "\n",
              "      buttonEl.onclick = () => {\n",
              "        google.colab.notebook.generateWithVariable('imp_df');\n",
              "      }\n",
              "      })();\n",
              "    </script>\n",
              "  </div>\n",
              "\n",
              "    </div>\n",
              "  </div>\n"
            ],
            "application/vnd.google.colaboratory.intrinsic+json": {
              "type": "dataframe",
              "variable_name": "imp_df",
              "summary": "{\n  \"name\": \"imp_df\",\n  \"rows\": 11,\n  \"fields\": [\n    {\n      \"column\": \"Model 1: N_Estimators = 100\",\n      \"properties\": {\n        \"dtype\": \"number\",\n        \"std\": 0.05989271289941125,\n        \"min\": 0.003369998818809469,\n        \"max\": 0.19019294739656842,\n        \"num_unique_values\": 11,\n        \"samples\": [\n          0.003369998818809469,\n          0.09484305793583266,\n          0.14825382061176648\n        ],\n        \"semantic_type\": \"\",\n        \"description\": \"\"\n      }\n    },\n    {\n      \"column\": \"Model 2: Max_Depth = 10\",\n      \"properties\": {\n        \"dtype\": \"number\",\n        \"std\": 0.05988365573485177,\n        \"min\": 0.003152069562216188,\n        \"max\": 0.19029134487305352,\n        \"num_unique_values\": 11,\n        \"samples\": [\n          0.003152069562216188,\n          0.09244176255042322,\n          0.14454420242080948\n        ],\n        \"semantic_type\": \"\",\n        \"description\": \"\"\n      }\n    },\n    {\n      \"column\": \"Model 3: Min_Samples_Leaf = 2\",\n      \"properties\": {\n        \"dtype\": \"number\",\n        \"std\": 0.06306253885705207,\n        \"min\": 0.0021093042139724077,\n        \"max\": 0.19151461114595833,\n        \"num_unique_values\": 11,\n        \"samples\": [\n          0.0021093042139724077,\n          0.0902732155917467,\n          0.1559300739384238\n        ],\n        \"semantic_type\": \"\",\n        \"description\": \"\"\n      }\n    }\n  ]\n}"
            }
          },
          "metadata": {},
          "execution_count": 341
        }
      ],
      "source": [
        "# TODO\n",
        "\n",
        "\n",
        "columns = ['Model 1: N_Estimators = 100', 'Model 2: Max_Depth = 10', 'Model 3: Min_Samples_Leaf = 2']\n",
        "imp_feature_matrix = np.array((classifier.feature_importances_, classifier_2.feature_importances_, classifier_3.feature_importances_))\n",
        "imp_df = pd.DataFrame(imp_feature_matrix.T, index=feature_names, columns = columns)\n",
        "imp_df\n"
      ]
    },
    {
      "cell_type": "markdown",
      "metadata": {
        "id": "wZOf4hvxWYcp"
      },
      "source": [
        "e, up to 8 points EC) In this step, perform some additional analysis of your choice on your dataset, such as looking at correlations, performing statistical tests, or training a different machine learning classifier or regression.  You could also plot data for credit, using scatter plots, bar charts, or other visualizations.  Choose your methods with an eye toward being interesting for step (f).  This step is extra credit."
      ]
    },
    {
      "cell_type": "code",
      "source": [
        "# maybe-TODO anything here:  correlations, statistical tests, other machine learning...\n",
        "import seaborn as sns\n",
        "\n",
        "correlation_matrix = new_df.corr()\n",
        "mask = np.array(np.ones((correlation_matrix.shape[0], correlation_matrix.shape[1]))) # Mask upper triangular portion\n",
        "upper_tri_mask = np.triu(mask)\n",
        "\n",
        "upper_tri_mask"
      ],
      "metadata": {
        "colab": {
          "base_uri": "https://localhost:8080/",
          "height": 0
        },
        "id": "IQfl8Oj9h_m0",
        "outputId": "0db341be-4c2d-45a8-c711-d7e9a9a8dae8"
      },
      "execution_count": 255,
      "outputs": [
        {
          "output_type": "execute_result",
          "data": {
            "text/plain": [
              "array([[1., 1., 1., 1., 1., 1., 1., 1., 1., 1., 1., 1.],\n",
              "       [0., 1., 1., 1., 1., 1., 1., 1., 1., 1., 1., 1.],\n",
              "       [0., 0., 1., 1., 1., 1., 1., 1., 1., 1., 1., 1.],\n",
              "       [0., 0., 0., 1., 1., 1., 1., 1., 1., 1., 1., 1.],\n",
              "       [0., 0., 0., 0., 1., 1., 1., 1., 1., 1., 1., 1.],\n",
              "       [0., 0., 0., 0., 0., 1., 1., 1., 1., 1., 1., 1.],\n",
              "       [0., 0., 0., 0., 0., 0., 1., 1., 1., 1., 1., 1.],\n",
              "       [0., 0., 0., 0., 0., 0., 0., 1., 1., 1., 1., 1.],\n",
              "       [0., 0., 0., 0., 0., 0., 0., 0., 1., 1., 1., 1.],\n",
              "       [0., 0., 0., 0., 0., 0., 0., 0., 0., 1., 1., 1.],\n",
              "       [0., 0., 0., 0., 0., 0., 0., 0., 0., 0., 1., 1.],\n",
              "       [0., 0., 0., 0., 0., 0., 0., 0., 0., 0., 0., 1.]])"
            ]
          },
          "metadata": {},
          "execution_count": 255
        }
      ]
    },
    {
      "cell_type": "code",
      "source": [
        "plt.figure(figsize=(25, 12))\n",
        "sns.heatmap(correlation_matrix, annot=True, cmap='RdBu', mask = upper_tri_mask)\n",
        "plt.title(\"Correlation Matrix of Fetal Health Characteristics\")"
      ],
      "metadata": {
        "colab": {
          "base_uri": "https://localhost:8080/",
          "height": 1000
        },
        "id": "fMdCdWK0igon",
        "outputId": "eef65efa-4b9d-4d92-a028-5b978d0db0c7"
      },
      "execution_count": 259,
      "outputs": [
        {
          "output_type": "execute_result",
          "data": {
            "text/plain": [
              "Text(0.5, 1.0, 'Correlation Matrix of Fetal Health Characteristics')"
            ]
          },
          "metadata": {},
          "execution_count": 259
        },
        {
          "output_type": "display_data",
          "data": {
            "text/plain": [
              "<Figure size 2500x1200 with 2 Axes>"
            ],
            "image/png": "[encoded data removed]"
          },
          "metadata": {}
        }
      ]
    },
    {
      "cell_type": "code",
      "source": [
        "from sklearn.linear_model import LogisticRegression\n",
        "\n",
        "def reshape_x(var):\n",
        "  return var.values.reshape(-1, 1)\n",
        "\n",
        "decelerations = reshape_x(df['prolongued_decelerations'])\n",
        "st_variability = reshape_x(df['mean_value_of_short_term_variability'])\n",
        "abn_st_variability = reshape_x(df['abnormal_short_term_variability'])\n",
        "uter_contract = reshape_x(df['uterine_contractions'])\n",
        "\n",
        "\n",
        "y_transform = y.apply(lambda x: 0 if x == 1 else 1)\n",
        "\n",
        "def logistic_reg(x, title):\n",
        "  reg = LogisticRegression()\n",
        "  reg.fit(x, y_transform)\n",
        "  y_pred = reg.predict(x)\n",
        "\n",
        "  x_range = np.linspace(x.min(), st_variability.max(), 150).reshape(-1, 1)\n",
        "  y_prob = reg.predict_proba(x_range)[:,1]\n",
        "\n",
        "  print(f\"Y-Intercept{reg.intercept_} Coefficient: {reg.coef_}\")\n",
        "\n",
        "  plt.figure(figsize=(12,7))\n",
        "  plt.scatter(x, y_transform, color = \"blue\", label = \"Actual Values\")\n",
        "  plt.plot(x_range, y_prob, color = 'red', label = \"Predicted Probability\")\n",
        "  plt.title(f\"Logisitic Model of {title} on Fetal Health Classification\")\n",
        "  plt.xlabel(title)\n",
        "  plt.ylabel(\"Healthy vs. Suspect or Pathological\")\n",
        "  plt.legend()\n",
        "  plt.xlim(x.min(), x.max())  # Set the x-axis range\n",
        "  plt.show()\n",
        "\n",
        "logistic_reg(st_variability, title=\"Mean Value of Short Term Variability\")\n",
        "logistic_reg(decelerations, title=\"Prolonged Decelerations\")\n",
        "logistic_reg(uter_contract, title = \"Uterine Contractions\")\n"
      ],
      "metadata": {
        "colab": {
          "base_uri": "https://localhost:8080/",
          "height": 1767
        },
        "id": "RneNpgU_xcEq",
        "outputId": "171ae7e2-897c-4b34-cf58-800442321ddd"
      },
      "execution_count": 385,
      "outputs": [
        {
          "output_type": "stream",
          "name": "stdout",
          "text": [
            "Y-Intercept[-0.32059067] Coefficient: [[-0.79322598]]\n"
          ]
        },
        {
          "output_type": "display_data",
          "data": {
            "text/plain": [
              "<Figure size 1200x700 with 1 Axes>"
            ],
            "image/png": "[encoded data removed]"
          },
          "metadata": {}
        },
        {
          "output_type": "stream",
          "name": "stdout",
          "text": [
            "Y-Intercept[-1.2566564] Coefficient: [[0.00157673]]\n"
          ]
        },
        {
          "output_type": "display_data",
          "data": {
            "text/plain": [
              "<Figure size 1200x700 with 1 Axes>"
            ],
            "image/png": "[encoded data removed]"
          },
          "metadata": {}
        },
        {
          "output_type": "stream",
          "name": "stdout",
          "text": [
            "Y-Intercept[-1.25381522] Coefficient: [[-0.69075115]]\n"
          ]
        },
        {
          "output_type": "display_data",
          "data": {
            "text/plain": [
              "<Figure size 1200x700 with 1 Axes>"
            ],
            "image/png": "[encoded data removed]"
          },
          "metadata": {}
        }
      ]
    },
    {
      "cell_type": "markdown",
      "metadata": {
        "id": "g5-FngesWYcq"
      },
      "source": [
        "f, 2 points plus shot at lightning talk) Look over your findings from parts (a-e) and summarize anything interesting you learned about the data from doing this study.  The students with the best answers to this question (who also chose to analyze novel datasets) may be selected to give lightning talks for additional extra credit."
      ]
    },
    {
      "cell_type": "markdown",
      "metadata": {
        "id": "Q0w2X4OKWYcr"
      },
      "source": [
        "**TODO**"
      ]
    },
    {
      "cell_type": "code",
      "execution_count": 386,
      "metadata": {
        "colab": {
          "base_uri": "https://localhost:8080/",
          "height": 35
        },
        "id": "qnG7hmaxWYcr",
        "outputId": "34c6032e-b494-4290-e894-38339f2d5434"
      },
      "outputs": [
        {
          "output_type": "execute_result",
          "data": {
            "text/plain": [
              "'Source: Ayres de Campos et al. (2000) SisPorto 2.0 A Program for Automated Analysis of Cardiotocograms. J Matern Fetal Med 5:311-318'"
            ],
            "application/vnd.google.colaboratory.intrinsic+json": {
              "type": "string"
            }
          },
          "metadata": {},
          "execution_count": 386
        }
      ],
      "source": [
        "\"\"\"Despite mean short term variability having a really low correlation with fetal health, the RandomForestRegressor ranks it as the highest importance in reducing error in classification.\n",
        "Additionally, our logistic regression model finds that a marginal increase in short term variability, the log odds of a negative fetal health outcome decrease by 0.79322598. In other words,\n",
        "the odds of a negative fetal health outcome are reduced by about 54.78%. \"\"\"\n",
        "\n",
        "\"\"\"Short-term variability refers to the beat-to-beat changes in the fetal heart rate that occur over short periods (typically seconds to minutes). It provides insights into the autonomic nervous system\n",
        "and reduced short-term variability can be a sign of poor oxygenation or fetal distress. It is surprisingly a better feature than the other predictors. \"\"\"\n",
        "\n",
        "\n",
        "\"\"\"Source: Ayres de Campos et al. (2000) SisPorto 2.0 A Program for Automated Analysis of Cardiotocograms. J Matern Fetal Med 5:311-318\"\"\"\n",
        "\n"
      ]
    }
  ],
  "metadata": {
    "colab": {
      "provenance": [],
      "include_colab_link": true
    },
    "kernelspec": {
      "display_name": "Python 3 (ipykernel)",
      "language": "python",
      "name": "python3"
    },
    "language_info": {
      "codemirror_mode": {
        "name": "ipython",
        "version": 3
      },
      "file_extension": ".py",
      "mimetype": "text/x-python",
      "name": "python",
      "nbconvert_exporter": "python",
      "pygments_lexer": "ipython3",
      "version": "3.13.0"
    }
  },
  "nbformat": 4,
  "nbformat_minor": 0
}